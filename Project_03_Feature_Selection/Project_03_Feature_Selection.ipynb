{
 "cells": [
  {
   "cell_type": "markdown",
   "metadata": {},
   "source": [
    "## **PROJECT 03**"
   ]
  },
  {
   "cell_type": "markdown",
   "metadata": {},
   "source": [
    "### **Feature Selection**\n",
    "\n",
    "Dalam mengerjakan sebuah data science project, banyak hal yang mempengaruhi hasil prediksi kita. Selain dari pemilhan algoritma yang tepat, feature/predictor yang kita gunakan juga sangat penting. Oleh karena itu, kita dapat melakukan proses Feature Selection.\n",
    "Feature Selection adalah proses memilih sejumlah feature dari seluruh feature yang ada pada suatu dataset untuk digunakan dalam membangun model. \n",
    "\n",
    "Feature Selection bisa dilakukan pada tahap pre-processing, yaitu sebelum melakukan modeling/training data. Beberapa metode Feature Selection juga dapat dilakukan sekaligus saat melakukan modeling, atau setelah modeling seperti LASSO dan Tree Based Selection. \n",
    "Feature Selection dapat digunakan baik pada kasus supervised learning maupun unsupervised learning.\n",
    "\n",
    "Alasan melakukan Feature Selection:\n",
    "\n",
    "-\tTidak semua feature berguna dalam melakukan prediksi.\n",
    "-\tCurse of Dimensionality. Terlalu banyak feature dapat menurunkan performa model.\n",
    "-\tSemakin banyak feature yang digunakan, semakin sulit juga model tersebut untuk dijelaskan. Dengan menggunakan feature yang tidak terlalu banyak, model yang terbentuk akan semakin simple serta lebih mudah dijelaskan dan diinterpretasi.\n",
    "-\tTerlalu banyak feature dapat menyebabkan overfitting. Performa modelnya bagus pada saat training saja, tapi performanya menurun saat melakukan prediksi pada data test.\n",
    "-\tSemakin sedikit feature yang digunakan, semakin cepat komputasi pada saat model melakukan training.\n",
    "\n",
    "Ada banyak metode feature selection. Kali ini saya akan melakukan beberapa metode saja, di antaranya:\n",
    "- Fiter Method:\n",
    "    - Missing Value\n",
    "    - Low Variance\n",
    "    - Duplicate\n",
    "<br><br>\n",
    "\n",
    "- Wrapper Method:\n",
    "    - Forward feature selection\n",
    "    - Backward feature selection\n",
    "    - Exhaustivefeature selection\n"
   ]
  },
  {
   "cell_type": "markdown",
   "metadata": {},
   "source": [
    "### **Libararies**"
   ]
  },
  {
   "cell_type": "code",
   "execution_count": 1,
   "metadata": {},
   "outputs": [],
   "source": [
    "import numpy as np\n",
    "import pandas as pd \n",
    "import seaborn as sns\n",
    "import matplotlib.pyplot as plt\n",
    "\n",
    "from sklearn.datasets import load_diabetes\n",
    "from sklearn.model_selection import train_test_split, cross_val_score\n",
    "from sklearn.tree import DecisionTreeRegressor\n",
    "from sklearn.ensemble import RandomForestRegressor\n",
    "from sklearn.metrics import mean_squared_error, mean_absolute_error, r2_score, f1_score\n",
    "from sklearn.feature_selection import SequentialFeatureSelector, SelectKBest, SelectPercentile"
   ]
  },
  {
   "cell_type": "code",
   "execution_count": null,
   "metadata": {},
   "outputs": [],
   "source": []
  },
  {
   "cell_type": "markdown",
   "metadata": {},
   "source": [
    "# Filter Method\n",
    "\n",
    "Kelebihan:\n",
    "- Dilakukan pada tahap preprocessing.\n",
    "- Tidak bergantung pada algoritma yang digunakan untuk modeling.\n",
    "- Secara komputasi lebih ringan dari pada metode lain.\n",
    "- Bagus untuk dilakukan pada dataset dengan kolom yang banyak.\n",
    "- Tidak cenderung overfitting\n",
    "\n",
    "Kekurangan:\n",
    "- Performa model yang menggunakan feature yang dihasilkan dari Filter Method ada kemungkinan bukan yang terbaik, karena pada univariate technique, feature selection hanya memperhatikan feature itu sendiri, tanpa melihat keterkaitannya dengan feature lain. \n",
    "\n",
    "Kita akan membahas 3 metode feature selection pada filter method: \n",
    "- Missing Value Percentage\n",
    "- Low Variance\n",
    "- Duplicate Feature"
   ]
  },
  {
   "cell_type": "markdown",
   "metadata": {},
   "source": [
    "Dataset yang akan kita gunakan:\n",
    "\n",
    "https://www.kaggle.com/c/santander-customer-satisfaction/data?select=train.csv"
   ]
  },
  {
   "cell_type": "code",
   "execution_count": 2,
   "metadata": {},
   "outputs": [
    {
     "data": {
      "text/html": [
       "<div>\n",
       "<style scoped>\n",
       "    .dataframe tbody tr th:only-of-type {\n",
       "        vertical-align: middle;\n",
       "    }\n",
       "\n",
       "    .dataframe tbody tr th {\n",
       "        vertical-align: top;\n",
       "    }\n",
       "\n",
       "    .dataframe thead th {\n",
       "        text-align: right;\n",
       "    }\n",
       "</style>\n",
       "<table border=\"1\" class=\"dataframe\">\n",
       "  <thead>\n",
       "    <tr style=\"text-align: right;\">\n",
       "      <th></th>\n",
       "      <th>ID</th>\n",
       "      <th>var3</th>\n",
       "      <th>var15</th>\n",
       "      <th>imp_ent_var16_ult1</th>\n",
       "      <th>imp_op_var39_comer_ult1</th>\n",
       "      <th>imp_op_var39_comer_ult3</th>\n",
       "      <th>imp_op_var40_comer_ult1</th>\n",
       "      <th>imp_op_var40_comer_ult3</th>\n",
       "      <th>imp_op_var40_efect_ult1</th>\n",
       "      <th>imp_op_var40_efect_ult3</th>\n",
       "      <th>...</th>\n",
       "      <th>saldo_medio_var33_hace2</th>\n",
       "      <th>saldo_medio_var33_hace3</th>\n",
       "      <th>saldo_medio_var33_ult1</th>\n",
       "      <th>saldo_medio_var33_ult3</th>\n",
       "      <th>saldo_medio_var44_hace2</th>\n",
       "      <th>saldo_medio_var44_hace3</th>\n",
       "      <th>saldo_medio_var44_ult1</th>\n",
       "      <th>saldo_medio_var44_ult3</th>\n",
       "      <th>var38</th>\n",
       "      <th>TARGET</th>\n",
       "    </tr>\n",
       "  </thead>\n",
       "  <tbody>\n",
       "    <tr>\n",
       "      <th>0</th>\n",
       "      <td>1</td>\n",
       "      <td>2</td>\n",
       "      <td>23</td>\n",
       "      <td>0.0</td>\n",
       "      <td>0.0</td>\n",
       "      <td>0.0</td>\n",
       "      <td>0.0</td>\n",
       "      <td>0.0</td>\n",
       "      <td>0</td>\n",
       "      <td>0</td>\n",
       "      <td>...</td>\n",
       "      <td>0.0</td>\n",
       "      <td>0.0</td>\n",
       "      <td>0.0</td>\n",
       "      <td>0.0</td>\n",
       "      <td>0.0</td>\n",
       "      <td>0.0</td>\n",
       "      <td>0.0</td>\n",
       "      <td>0.0</td>\n",
       "      <td>39205.170000</td>\n",
       "      <td>0</td>\n",
       "    </tr>\n",
       "    <tr>\n",
       "      <th>1</th>\n",
       "      <td>3</td>\n",
       "      <td>2</td>\n",
       "      <td>34</td>\n",
       "      <td>0.0</td>\n",
       "      <td>0.0</td>\n",
       "      <td>0.0</td>\n",
       "      <td>0.0</td>\n",
       "      <td>0.0</td>\n",
       "      <td>0</td>\n",
       "      <td>0</td>\n",
       "      <td>...</td>\n",
       "      <td>0.0</td>\n",
       "      <td>0.0</td>\n",
       "      <td>0.0</td>\n",
       "      <td>0.0</td>\n",
       "      <td>0.0</td>\n",
       "      <td>0.0</td>\n",
       "      <td>0.0</td>\n",
       "      <td>0.0</td>\n",
       "      <td>49278.030000</td>\n",
       "      <td>0</td>\n",
       "    </tr>\n",
       "    <tr>\n",
       "      <th>2</th>\n",
       "      <td>4</td>\n",
       "      <td>2</td>\n",
       "      <td>23</td>\n",
       "      <td>0.0</td>\n",
       "      <td>0.0</td>\n",
       "      <td>0.0</td>\n",
       "      <td>0.0</td>\n",
       "      <td>0.0</td>\n",
       "      <td>0</td>\n",
       "      <td>0</td>\n",
       "      <td>...</td>\n",
       "      <td>0.0</td>\n",
       "      <td>0.0</td>\n",
       "      <td>0.0</td>\n",
       "      <td>0.0</td>\n",
       "      <td>0.0</td>\n",
       "      <td>0.0</td>\n",
       "      <td>0.0</td>\n",
       "      <td>0.0</td>\n",
       "      <td>67333.770000</td>\n",
       "      <td>0</td>\n",
       "    </tr>\n",
       "    <tr>\n",
       "      <th>3</th>\n",
       "      <td>8</td>\n",
       "      <td>2</td>\n",
       "      <td>37</td>\n",
       "      <td>0.0</td>\n",
       "      <td>195.0</td>\n",
       "      <td>195.0</td>\n",
       "      <td>0.0</td>\n",
       "      <td>0.0</td>\n",
       "      <td>0</td>\n",
       "      <td>0</td>\n",
       "      <td>...</td>\n",
       "      <td>0.0</td>\n",
       "      <td>0.0</td>\n",
       "      <td>0.0</td>\n",
       "      <td>0.0</td>\n",
       "      <td>0.0</td>\n",
       "      <td>0.0</td>\n",
       "      <td>0.0</td>\n",
       "      <td>0.0</td>\n",
       "      <td>64007.970000</td>\n",
       "      <td>0</td>\n",
       "    </tr>\n",
       "    <tr>\n",
       "      <th>4</th>\n",
       "      <td>10</td>\n",
       "      <td>2</td>\n",
       "      <td>39</td>\n",
       "      <td>0.0</td>\n",
       "      <td>0.0</td>\n",
       "      <td>0.0</td>\n",
       "      <td>0.0</td>\n",
       "      <td>0.0</td>\n",
       "      <td>0</td>\n",
       "      <td>0</td>\n",
       "      <td>...</td>\n",
       "      <td>0.0</td>\n",
       "      <td>0.0</td>\n",
       "      <td>0.0</td>\n",
       "      <td>0.0</td>\n",
       "      <td>0.0</td>\n",
       "      <td>0.0</td>\n",
       "      <td>0.0</td>\n",
       "      <td>0.0</td>\n",
       "      <td>117310.979016</td>\n",
       "      <td>0</td>\n",
       "    </tr>\n",
       "  </tbody>\n",
       "</table>\n",
       "<p>5 rows × 371 columns</p>\n",
       "</div>"
      ],
      "text/plain": [
       "   ID  var3  var15  imp_ent_var16_ult1  imp_op_var39_comer_ult1  \\\n",
       "0   1     2     23                 0.0                      0.0   \n",
       "1   3     2     34                 0.0                      0.0   \n",
       "2   4     2     23                 0.0                      0.0   \n",
       "3   8     2     37                 0.0                    195.0   \n",
       "4  10     2     39                 0.0                      0.0   \n",
       "\n",
       "   imp_op_var39_comer_ult3  imp_op_var40_comer_ult1  imp_op_var40_comer_ult3  \\\n",
       "0                      0.0                      0.0                      0.0   \n",
       "1                      0.0                      0.0                      0.0   \n",
       "2                      0.0                      0.0                      0.0   \n",
       "3                    195.0                      0.0                      0.0   \n",
       "4                      0.0                      0.0                      0.0   \n",
       "\n",
       "   imp_op_var40_efect_ult1  imp_op_var40_efect_ult3  ...  \\\n",
       "0                        0                        0  ...   \n",
       "1                        0                        0  ...   \n",
       "2                        0                        0  ...   \n",
       "3                        0                        0  ...   \n",
       "4                        0                        0  ...   \n",
       "\n",
       "   saldo_medio_var33_hace2  saldo_medio_var33_hace3  saldo_medio_var33_ult1  \\\n",
       "0                      0.0                      0.0                     0.0   \n",
       "1                      0.0                      0.0                     0.0   \n",
       "2                      0.0                      0.0                     0.0   \n",
       "3                      0.0                      0.0                     0.0   \n",
       "4                      0.0                      0.0                     0.0   \n",
       "\n",
       "   saldo_medio_var33_ult3  saldo_medio_var44_hace2  saldo_medio_var44_hace3  \\\n",
       "0                     0.0                      0.0                      0.0   \n",
       "1                     0.0                      0.0                      0.0   \n",
       "2                     0.0                      0.0                      0.0   \n",
       "3                     0.0                      0.0                      0.0   \n",
       "4                     0.0                      0.0                      0.0   \n",
       "\n",
       "   saldo_medio_var44_ult1  saldo_medio_var44_ult3          var38  TARGET  \n",
       "0                     0.0                     0.0   39205.170000       0  \n",
       "1                     0.0                     0.0   49278.030000       0  \n",
       "2                     0.0                     0.0   67333.770000       0  \n",
       "3                     0.0                     0.0   64007.970000       0  \n",
       "4                     0.0                     0.0  117310.979016       0  \n",
       "\n",
       "[5 rows x 371 columns]"
      ]
     },
     "execution_count": 2,
     "metadata": {},
     "output_type": "execute_result"
    }
   ],
   "source": [
    "df_santander = pd.read_csv('santander_satisfaction.csv', nrows=20000)\n",
    "df_santander.head()"
   ]
  },
  {
   "cell_type": "code",
   "execution_count": null,
   "metadata": {},
   "outputs": [],
   "source": []
  },
  {
   "cell_type": "markdown",
   "metadata": {},
   "source": [
    "## **Missing Value Percentage**\n",
    "\n",
    "Jika jumlah missing value pada suatu feature/kolom sangat banyak, maka kita bisa buang feature tersebut. Kita bisa buang feature yang memiliki 95% missing value.\n"
   ]
  },
  {
   "cell_type": "code",
   "execution_count": 3,
   "metadata": {},
   "outputs": [],
   "source": [
    "for i,j in enumerate(df_santander.isna().sum()):\n",
    "    if j>0.95:\n",
    "        print('missing value =',j/len(df_santander.columns), df_santander.columns[i])    \n",
    "\n",
    "# Tidak ada feature yang memiliki missing value > 95%"
   ]
  },
  {
   "cell_type": "markdown",
   "metadata": {},
   "source": [
    "## **Low Variance**\n",
    "\n",
    "Jika suatu feature/kolom memiliki nilai variance yang sangat kecil, maka feature tersebut bisa kita buang."
   ]
  },
  {
   "cell_type": "code",
   "execution_count": 4,
   "metadata": {},
   "outputs": [
    {
     "data": {
      "text/plain": [
       "(20000, 371)"
      ]
     },
     "execution_count": 4,
     "metadata": {},
     "output_type": "execute_result"
    }
   ],
   "source": [
    "# Awalnya dataset santander memiliki 371 features\n",
    "df_santander.shape"
   ]
  },
  {
   "cell_type": "code",
   "execution_count": 5,
   "metadata": {},
   "outputs": [
    {
     "data": {
      "text/plain": [
       "((20000, 370), (20000,))"
      ]
     },
     "execution_count": 5,
     "metadata": {},
     "output_type": "execute_result"
    }
   ],
   "source": [
    "# feature dan target\n",
    "X = df_santander.drop(columns='TARGET')\n",
    "y = df_santander['TARGET']\n",
    "\n",
    "X.shape, y.shape"
   ]
  },
  {
   "cell_type": "code",
   "execution_count": 6,
   "metadata": {},
   "outputs": [],
   "source": [
    "# train test split\n",
    "X_train, X_test, y_train, y_test = train_test_split(X,y, test_size=0.2, stratify=y, random_state=0)"
   ]
  },
  {
   "cell_type": "code",
   "execution_count": 7,
   "metadata": {},
   "outputs": [],
   "source": [
    "# Scaling\n",
    "# from sklearn.preprocessing import StandardScaler,MinMaxScaler\n",
    "# scale = MinMaxScaler()\n",
    "\n",
    "# X_train = scale.fit_transform(X_train)\n",
    "# X_test = scale.transform(X_test)"
   ]
  },
  {
   "cell_type": "markdown",
   "metadata": {},
   "source": [
    "#### Constant Features\n",
    "\n",
    "Kita akan membuang feature yang memiliki nilai variance 0. Dengan kata lain, semua nilai pada feature tersebut seragam."
   ]
  },
  {
   "cell_type": "code",
   "execution_count": 8,
   "metadata": {},
   "outputs": [
    {
     "data": {
      "text/plain": [
       "VarianceThreshold(threshold=0)"
      ]
     },
     "execution_count": 8,
     "metadata": {},
     "output_type": "execute_result"
    }
   ],
   "source": [
    "from sklearn.feature_selection import VarianceThreshold\n",
    "\n",
    "# Filter pada feature yang memiliki nilai variance 0\n",
    "constant_filter = VarianceThreshold(threshold=0)\n",
    "constant_filter.fit(X_train)"
   ]
  },
  {
   "cell_type": "code",
   "execution_count": 9,
   "metadata": {},
   "outputs": [
    {
     "data": {
      "text/plain": [
       "291"
      ]
     },
     "execution_count": 9,
     "metadata": {},
     "output_type": "execute_result"
    }
   ],
   "source": [
    "# Jumlah feature yang tidak constant (yang memiliki nilai variance bukan 0). Feature inilah yang akan digunakan untuk modeling.\n",
    "constant_filter.get_support().sum()"
   ]
  },
  {
   "cell_type": "code",
   "execution_count": 10,
   "metadata": {},
   "outputs": [
    {
     "data": {
      "text/plain": [
       "((16000, 291), (16000, 370))"
      ]
     },
     "execution_count": 10,
     "metadata": {},
     "output_type": "execute_result"
    }
   ],
   "source": [
    "# transform\n",
    "X_train_filtered = constant_filter.transform(X_train)\n",
    "X_test_filtered = constant_filter.transform(X_test)\n",
    "\n",
    "# Jumlah feature setelah dilakukan fitering tersisa 291 dari yang awalnya berjumlah 370 features.\n",
    "X_train_filtered.shape, X_train.shape"
   ]
  },
  {
   "cell_type": "code",
   "execution_count": 11,
   "metadata": {},
   "outputs": [
    {
     "data": {
      "text/plain": [
       "Index(['ind_var2_0', 'ind_var2', 'ind_var13_medio_0', 'ind_var13_medio',\n",
       "       'ind_var18_0', 'ind_var18', 'ind_var27_0', 'ind_var28_0', 'ind_var28',\n",
       "       'ind_var27', 'ind_var34_0', 'ind_var34', 'ind_var41', 'ind_var46_0',\n",
       "       'ind_var46', 'num_var13_medio_0', 'num_var13_medio', 'num_var18_0',\n",
       "       'num_var18', 'num_var27_0', 'num_var28_0', 'num_var28', 'num_var27',\n",
       "       'num_var34_0', 'num_var34', 'num_var41', 'num_var46_0', 'num_var46',\n",
       "       'saldo_var13_medio', 'saldo_var18', 'saldo_var28', 'saldo_var27',\n",
       "       'saldo_var34', 'saldo_var41', 'saldo_var46',\n",
       "       'delta_imp_amort_var18_1y3', 'delta_imp_amort_var34_1y3',\n",
       "       'delta_imp_reemb_var33_1y3', 'delta_imp_trasp_var17_out_1y3',\n",
       "       'delta_imp_trasp_var33_out_1y3', 'delta_num_reemb_var33_1y3',\n",
       "       'delta_num_trasp_var17_out_1y3', 'delta_num_trasp_var33_out_1y3',\n",
       "       'imp_amort_var18_hace3', 'imp_amort_var18_ult1',\n",
       "       'imp_amort_var34_hace3', 'imp_amort_var34_ult1', 'imp_var7_emit_ult1',\n",
       "       'imp_reemb_var13_hace3', 'imp_reemb_var17_hace3',\n",
       "       'imp_reemb_var33_hace3', 'imp_reemb_var33_ult1',\n",
       "       'imp_trasp_var17_in_hace3', 'imp_trasp_var17_out_hace3',\n",
       "       'imp_trasp_var17_out_ult1', 'imp_trasp_var33_in_hace3',\n",
       "       'imp_trasp_var33_out_hace3', 'imp_trasp_var33_out_ult1',\n",
       "       'ind_var7_emit_ult1', 'num_var2_0_ult1', 'num_var2_ult1',\n",
       "       'num_var7_emit_ult1', 'num_meses_var13_medio_ult3',\n",
       "       'num_reemb_var13_hace3', 'num_reemb_var17_hace3',\n",
       "       'num_reemb_var33_hace3', 'num_reemb_var33_ult1',\n",
       "       'num_trasp_var17_in_hace3', 'num_trasp_var17_out_hace3',\n",
       "       'num_trasp_var17_out_ult1', 'num_trasp_var33_in_hace3',\n",
       "       'num_trasp_var33_out_hace3', 'num_trasp_var33_out_ult1',\n",
       "       'saldo_var2_ult1', 'saldo_medio_var13_medio_hace2',\n",
       "       'saldo_medio_var13_medio_hace3', 'saldo_medio_var13_medio_ult1',\n",
       "       'saldo_medio_var13_medio_ult3', 'saldo_medio_var29_hace3'],\n",
       "      dtype='object')"
      ]
     },
     "execution_count": 11,
     "metadata": {},
     "output_type": "execute_result"
    }
   ],
   "source": [
    "# Memilih feature yang memiliki nilai variance 0\n",
    "constant_features = [not i for i in constant_filter.get_support()]\n",
    "\n",
    "# Feature yang memiliki nilai variance 0\n",
    "df_X_train = pd.DataFrame(X_train)\n",
    "df_X_train.columns[constant_features]"
   ]
  },
  {
   "cell_type": "code",
   "execution_count": 12,
   "metadata": {},
   "outputs": [
    {
     "data": {
      "text/plain": [
       "79"
      ]
     },
     "execution_count": 12,
     "metadata": {},
     "output_type": "execute_result"
    }
   ],
   "source": [
    "len(df_X_train.columns[constant_features])\n",
    "# Ada 79 feature yang memiliki nilai variance 0"
   ]
  },
  {
   "cell_type": "code",
   "execution_count": 13,
   "metadata": {},
   "outputs": [
    {
     "data": {
      "text/plain": [
       "[0    16000\n",
       " Name: ind_var2_0, dtype: int64,\n",
       " 0    16000\n",
       " Name: ind_var2, dtype: int64,\n",
       " 0    16000\n",
       " Name: ind_var13_medio_0, dtype: int64,\n",
       " 0    16000\n",
       " Name: ind_var13_medio, dtype: int64,\n",
       " 0    16000\n",
       " Name: ind_var18_0, dtype: int64]"
      ]
     },
     "execution_count": 13,
     "metadata": {},
     "output_type": "execute_result"
    }
   ],
   "source": [
    "# Kita cek beberapa feature yang memiliki nilai variance 0\n",
    "[df_X_train[i].value_counts() for i in list(df_X_train.columns[constant_features])][:5]\n",
    "\n",
    "# 16000 dari 16000 data memiliki nilai yang sama"
   ]
  },
  {
   "cell_type": "markdown",
   "metadata": {},
   "source": [
    "#### Quasi Constant Features\n",
    "\n",
    "Kemudian kita lanjut. Kita akan membuang feature yang memiliki nilai variance sangat kecil. Dengan kata lain, hampir semua nilai pada feature tersebut seragam."
   ]
  },
  {
   "cell_type": "code",
   "execution_count": 14,
   "metadata": {},
   "outputs": [
    {
     "data": {
      "text/plain": [
       "VarianceThreshold(threshold=0.01)"
      ]
     },
     "execution_count": 14,
     "metadata": {},
     "output_type": "execute_result"
    }
   ],
   "source": [
    "from sklearn.feature_selection import VarianceThreshold\n",
    "\n",
    "# Filter pada feature yang memiliki nilai variance 0.01 atau kurang.\n",
    "quasi_constant_filter = VarianceThreshold(threshold=0.01)\n",
    "quasi_constant_filter.fit(X_train_filtered)"
   ]
  },
  {
   "cell_type": "code",
   "execution_count": 15,
   "metadata": {},
   "outputs": [
    {
     "data": {
      "text/plain": [
       "245"
      ]
     },
     "execution_count": 15,
     "metadata": {},
     "output_type": "execute_result"
    }
   ],
   "source": [
    "# Jumlah feature yang tidak constant (yang memiliki nilai variance bukan 0). Feature inilah yang akan digunakan untuk modeling.\n",
    "quasi_constant_filter.get_support().sum()"
   ]
  },
  {
   "cell_type": "code",
   "execution_count": 16,
   "metadata": {},
   "outputs": [
    {
     "data": {
      "text/plain": [
       "((16000, 245), (16000, 291))"
      ]
     },
     "execution_count": 16,
     "metadata": {},
     "output_type": "execute_result"
    }
   ],
   "source": [
    "# transform\n",
    "X_train_quasi_filtered = quasi_constant_filter.transform(X_train_filtered)\n",
    "X_test_quasi_filtered = quasi_constant_filter.transform(X_test_filtered)\n",
    "\n",
    "# Jumlah feature setelah dilakukan fitering tersisa 245 dari sebelumnya berjumlah 291 features.\n",
    "X_train_quasi_filtered.shape, X_train_filtered.shape"
   ]
  },
  {
   "cell_type": "code",
   "execution_count": 17,
   "metadata": {},
   "outputs": [
    {
     "data": {
      "text/plain": [
       "Int64Index([ 21,  24,  25,  33,  34,  37,  38,  39,  40,  41,  42,  51,  52,\n",
       "             53,  55,  56,  57,  58,  59,  60,  61,  67,  69,  70,  71,  77,\n",
       "             78, 102, 113, 114, 121, 122, 162, 171, 195, 207, 208, 224, 225,\n",
       "            226, 228, 241, 242, 247, 248, 249],\n",
       "           dtype='int64')"
      ]
     },
     "execution_count": 17,
     "metadata": {},
     "output_type": "execute_result"
    }
   ],
   "source": [
    "# Memilih feature yang memiliki nilai variance 0.01 atau kurang\n",
    "quasi_constant_features = [not i for i in quasi_constant_filter.get_support()]\n",
    "\n",
    "# Feture yang memiliki nilai variance 0.01 atau kurang\n",
    "df_X_train_filtered = pd.DataFrame(X_train_filtered)\n",
    "\n",
    "df_X_train_filtered.columns[quasi_constant_features]\n"
   ]
  },
  {
   "cell_type": "code",
   "execution_count": 18,
   "metadata": {},
   "outputs": [
    {
     "data": {
      "text/plain": [
       "46"
      ]
     },
     "execution_count": 18,
     "metadata": {},
     "output_type": "execute_result"
    }
   ],
   "source": [
    "len(df_X_train_filtered.columns[quasi_constant_features])\n",
    "# Ada 46 feature yang memiliki nilai variance 0.01 atau kurang"
   ]
  },
  {
   "cell_type": "code",
   "execution_count": 19,
   "metadata": {},
   "outputs": [
    {
     "data": {
      "text/plain": [
       "[0.0    15936\n",
       " 1.0       64\n",
       " Name: 21, dtype: int64,\n",
       " 0.0    15996\n",
       " 1.0        4\n",
       " Name: 24, dtype: int64,\n",
       " 0.0    15998\n",
       " 1.0        2\n",
       " Name: 25, dtype: int64,\n",
       " 0.0    15844\n",
       " 1.0      156\n",
       " Name: 33, dtype: int64,\n",
       " 0.0    15847\n",
       " 1.0      153\n",
       " Name: 34, dtype: int64]"
      ]
     },
     "execution_count": 19,
     "metadata": {},
     "output_type": "execute_result"
    }
   ],
   "source": [
    "# Kita cek beberapa feature yang memiliki nilai variance 0.1 atau kurang\n",
    "[df_X_train_filtered[i].value_counts() for i in list(df_X_train_filtered.columns[quasi_constant_features])][:5]"
   ]
  },
  {
   "cell_type": "code",
   "execution_count": null,
   "metadata": {},
   "outputs": [],
   "source": []
  },
  {
   "cell_type": "markdown",
   "metadata": {},
   "source": [
    "## **Duplicate Features**\n",
    "\n",
    "Kemudian kita lanjut lagi. Feature yang memiliki nilai yang sama dengan feature lainnya dianggap sebagai duplikat dan akan kita buang."
   ]
  },
  {
   "cell_type": "markdown",
   "metadata": {},
   "source": [
    "#### Contoh Feature Duplikat"
   ]
  },
  {
   "cell_type": "code",
   "execution_count": 20,
   "metadata": {},
   "outputs": [
    {
     "data": {
      "text/html": [
       "<div>\n",
       "<style scoped>\n",
       "    .dataframe tbody tr th:only-of-type {\n",
       "        vertical-align: middle;\n",
       "    }\n",
       "\n",
       "    .dataframe tbody tr th {\n",
       "        vertical-align: top;\n",
       "    }\n",
       "\n",
       "    .dataframe thead th {\n",
       "        text-align: right;\n",
       "    }\n",
       "</style>\n",
       "<table border=\"1\" class=\"dataframe\">\n",
       "  <thead>\n",
       "    <tr style=\"text-align: right;\">\n",
       "      <th></th>\n",
       "      <th>a</th>\n",
       "      <th>b</th>\n",
       "      <th>c</th>\n",
       "      <th>d</th>\n",
       "    </tr>\n",
       "  </thead>\n",
       "  <tbody>\n",
       "    <tr>\n",
       "      <th>0</th>\n",
       "      <td>1</td>\n",
       "      <td>1</td>\n",
       "      <td>2</td>\n",
       "      <td>2</td>\n",
       "    </tr>\n",
       "    <tr>\n",
       "      <th>1</th>\n",
       "      <td>1</td>\n",
       "      <td>1</td>\n",
       "      <td>2</td>\n",
       "      <td>2</td>\n",
       "    </tr>\n",
       "    <tr>\n",
       "      <th>2</th>\n",
       "      <td>1</td>\n",
       "      <td>1</td>\n",
       "      <td>2</td>\n",
       "      <td>2</td>\n",
       "    </tr>\n",
       "    <tr>\n",
       "      <th>3</th>\n",
       "      <td>1</td>\n",
       "      <td>1</td>\n",
       "      <td>2</td>\n",
       "      <td>2</td>\n",
       "    </tr>\n",
       "    <tr>\n",
       "      <th>4</th>\n",
       "      <td>1</td>\n",
       "      <td>1</td>\n",
       "      <td>2</td>\n",
       "      <td>2</td>\n",
       "    </tr>\n",
       "  </tbody>\n",
       "</table>\n",
       "</div>"
      ],
      "text/plain": [
       "   a  b  c  d\n",
       "0  1  1  2  2\n",
       "1  1  1  2  2\n",
       "2  1  1  2  2\n",
       "3  1  1  2  2\n",
       "4  1  1  2  2"
      ]
     },
     "execution_count": 20,
     "metadata": {},
     "output_type": "execute_result"
    }
   ],
   "source": [
    "df_baru = pd.DataFrame({\n",
    "    'a':[1,1,1,1,1],\n",
    "    'b':[1,1,1,1,1],\n",
    "    'c':[2,2,2,2,2],\n",
    "    'd':[2,2,2,2,2]\n",
    "})\n",
    "\n",
    "# kolom 'a' dan 'b' punya value yang sama. kolom 'c' dan 'd' juga punya value yang sama.\n",
    "df_baru"
   ]
  },
  {
   "cell_type": "code",
   "execution_count": 21,
   "metadata": {},
   "outputs": [
    {
     "data": {
      "text/html": [
       "<div>\n",
       "<style scoped>\n",
       "    .dataframe tbody tr th:only-of-type {\n",
       "        vertical-align: middle;\n",
       "    }\n",
       "\n",
       "    .dataframe tbody tr th {\n",
       "        vertical-align: top;\n",
       "    }\n",
       "\n",
       "    .dataframe thead th {\n",
       "        text-align: right;\n",
       "    }\n",
       "</style>\n",
       "<table border=\"1\" class=\"dataframe\">\n",
       "  <thead>\n",
       "    <tr style=\"text-align: right;\">\n",
       "      <th></th>\n",
       "      <th>0</th>\n",
       "      <th>1</th>\n",
       "      <th>2</th>\n",
       "      <th>3</th>\n",
       "      <th>4</th>\n",
       "    </tr>\n",
       "  </thead>\n",
       "  <tbody>\n",
       "    <tr>\n",
       "      <th>a</th>\n",
       "      <td>1</td>\n",
       "      <td>1</td>\n",
       "      <td>1</td>\n",
       "      <td>1</td>\n",
       "      <td>1</td>\n",
       "    </tr>\n",
       "    <tr>\n",
       "      <th>b</th>\n",
       "      <td>1</td>\n",
       "      <td>1</td>\n",
       "      <td>1</td>\n",
       "      <td>1</td>\n",
       "      <td>1</td>\n",
       "    </tr>\n",
       "    <tr>\n",
       "      <th>c</th>\n",
       "      <td>2</td>\n",
       "      <td>2</td>\n",
       "      <td>2</td>\n",
       "      <td>2</td>\n",
       "      <td>2</td>\n",
       "    </tr>\n",
       "    <tr>\n",
       "      <th>d</th>\n",
       "      <td>2</td>\n",
       "      <td>2</td>\n",
       "      <td>2</td>\n",
       "      <td>2</td>\n",
       "      <td>2</td>\n",
       "    </tr>\n",
       "  </tbody>\n",
       "</table>\n",
       "</div>"
      ],
      "text/plain": [
       "   0  1  2  3  4\n",
       "a  1  1  1  1  1\n",
       "b  1  1  1  1  1\n",
       "c  2  2  2  2  2\n",
       "d  2  2  2  2  2"
      ]
     },
     "execution_count": 21,
     "metadata": {},
     "output_type": "execute_result"
    }
   ],
   "source": [
    "# transpose (kolom jadi baris)\n",
    "df_baru_T = df_baru.T\n",
    "df_baru_T"
   ]
  },
  {
   "cell_type": "code",
   "execution_count": 22,
   "metadata": {},
   "outputs": [
    {
     "name": "stdout",
     "output_type": "stream",
     "text": [
      "Feature duplikat adalah feature index: \n",
      " [1, 3]\n"
     ]
    }
   ],
   "source": [
    "# mencari feature yang duplikat (sekarang sedang dalam bentuk baris)\n",
    "df_baru_T.duplicated()\n",
    "\n",
    "list_duplicate = []\n",
    "\n",
    "for idx, feat in enumerate(df_baru_T.duplicated()):\n",
    "    if feat == True:\n",
    "        list_duplicate.append(idx)\n",
    "\n",
    "print('Feature duplikat adalah feature index: \\n',list_duplicate)"
   ]
  },
  {
   "cell_type": "code",
   "execution_count": 23,
   "metadata": {},
   "outputs": [
    {
     "data": {
      "text/html": [
       "<div>\n",
       "<style scoped>\n",
       "    .dataframe tbody tr th:only-of-type {\n",
       "        vertical-align: middle;\n",
       "    }\n",
       "\n",
       "    .dataframe tbody tr th {\n",
       "        vertical-align: top;\n",
       "    }\n",
       "\n",
       "    .dataframe thead th {\n",
       "        text-align: right;\n",
       "    }\n",
       "</style>\n",
       "<table border=\"1\" class=\"dataframe\">\n",
       "  <thead>\n",
       "    <tr style=\"text-align: right;\">\n",
       "      <th></th>\n",
       "      <th>b</th>\n",
       "      <th>d</th>\n",
       "    </tr>\n",
       "  </thead>\n",
       "  <tbody>\n",
       "    <tr>\n",
       "      <th>0</th>\n",
       "      <td>1</td>\n",
       "      <td>2</td>\n",
       "    </tr>\n",
       "    <tr>\n",
       "      <th>1</th>\n",
       "      <td>1</td>\n",
       "      <td>2</td>\n",
       "    </tr>\n",
       "    <tr>\n",
       "      <th>2</th>\n",
       "      <td>1</td>\n",
       "      <td>2</td>\n",
       "    </tr>\n",
       "    <tr>\n",
       "      <th>3</th>\n",
       "      <td>1</td>\n",
       "      <td>2</td>\n",
       "    </tr>\n",
       "    <tr>\n",
       "      <th>4</th>\n",
       "      <td>1</td>\n",
       "      <td>2</td>\n",
       "    </tr>\n",
       "  </tbody>\n",
       "</table>\n",
       "</div>"
      ],
      "text/plain": [
       "   b  d\n",
       "0  1  2\n",
       "1  1  2\n",
       "2  1  2\n",
       "3  1  2\n",
       "4  1  2"
      ]
     },
     "execution_count": 23,
     "metadata": {},
     "output_type": "execute_result"
    }
   ],
   "source": [
    "# Feature yang duplikat\n",
    "pd.DataFrame(df_baru).iloc[:,list_duplicate]\n",
    "\n",
    "# Terdapat 2 feature duplikat.\n",
    "# feature 'b' duplikat dari feature 'a'\n",
    "# feature 'd' duplikat dari feature 'c'"
   ]
  },
  {
   "cell_type": "markdown",
   "metadata": {},
   "source": [
    "#### Lanjut Mencari Feature Duplicate pada dataset Santander "
   ]
  },
  {
   "cell_type": "code",
   "execution_count": 24,
   "metadata": {},
   "outputs": [
    {
     "data": {
      "text/plain": [
       "((245, 16000), (245, 4000))"
      ]
     },
     "execution_count": 24,
     "metadata": {},
     "output_type": "execute_result"
    }
   ],
   "source": [
    "# kolom jadi baris\n",
    "X_train_T = X_train_quasi_filtered.T\n",
    "X_test_T = X_test_quasi_filtered.T\n",
    "\n",
    "X_train_T.shape, X_test_T.shape"
   ]
  },
  {
   "cell_type": "code",
   "execution_count": 25,
   "metadata": {},
   "outputs": [
    {
     "data": {
      "text/plain": [
       "numpy.ndarray"
      ]
     },
     "execution_count": 25,
     "metadata": {},
     "output_type": "execute_result"
    }
   ],
   "source": [
    "# X_train_T berupa numpy array\n",
    "type(X_train_T)"
   ]
  },
  {
   "cell_type": "code",
   "execution_count": 26,
   "metadata": {},
   "outputs": [
    {
     "data": {
      "text/plain": [
       "((245, 16000), (245, 4000))"
      ]
     },
     "execution_count": 26,
     "metadata": {},
     "output_type": "execute_result"
    }
   ],
   "source": [
    "# Ubah menjadi DataFrame\n",
    "X_train_T = pd.DataFrame(X_train_T)\n",
    "X_test_T = pd.DataFrame(X_test_T)\n",
    "\n",
    "X_train_T.shape, X_test_T.shape"
   ]
  },
  {
   "cell_type": "code",
   "execution_count": 27,
   "metadata": {},
   "outputs": [
    {
     "data": {
      "text/html": [
       "<div>\n",
       "<style scoped>\n",
       "    .dataframe tbody tr th:only-of-type {\n",
       "        vertical-align: middle;\n",
       "    }\n",
       "\n",
       "    .dataframe tbody tr th {\n",
       "        vertical-align: top;\n",
       "    }\n",
       "\n",
       "    .dataframe thead th {\n",
       "        text-align: right;\n",
       "    }\n",
       "</style>\n",
       "<table border=\"1\" class=\"dataframe\">\n",
       "  <thead>\n",
       "    <tr style=\"text-align: right;\">\n",
       "      <th></th>\n",
       "      <th>0</th>\n",
       "      <th>1</th>\n",
       "      <th>2</th>\n",
       "      <th>3</th>\n",
       "      <th>4</th>\n",
       "      <th>5</th>\n",
       "      <th>6</th>\n",
       "      <th>7</th>\n",
       "      <th>8</th>\n",
       "      <th>9</th>\n",
       "      <th>...</th>\n",
       "      <th>15990</th>\n",
       "      <th>15991</th>\n",
       "      <th>15992</th>\n",
       "      <th>15993</th>\n",
       "      <th>15994</th>\n",
       "      <th>15995</th>\n",
       "      <th>15996</th>\n",
       "      <th>15997</th>\n",
       "      <th>15998</th>\n",
       "      <th>15999</th>\n",
       "    </tr>\n",
       "  </thead>\n",
       "  <tbody>\n",
       "    <tr>\n",
       "      <th>0</th>\n",
       "      <td>17282.0</td>\n",
       "      <td>38270.00</td>\n",
       "      <td>31526.00</td>\n",
       "      <td>38737.00</td>\n",
       "      <td>16469.000000</td>\n",
       "      <td>4464.00</td>\n",
       "      <td>302.000000</td>\n",
       "      <td>22890.00</td>\n",
       "      <td>12211.00</td>\n",
       "      <td>11949.00</td>\n",
       "      <td>...</td>\n",
       "      <td>31516.000000</td>\n",
       "      <td>1337.00</td>\n",
       "      <td>37006.00</td>\n",
       "      <td>19809.000000</td>\n",
       "      <td>10783.00</td>\n",
       "      <td>38333.00</td>\n",
       "      <td>26389.00</td>\n",
       "      <td>2025.00</td>\n",
       "      <td>17327.000000</td>\n",
       "      <td>25406.00</td>\n",
       "    </tr>\n",
       "    <tr>\n",
       "      <th>1</th>\n",
       "      <td>2.0</td>\n",
       "      <td>2.00</td>\n",
       "      <td>2.00</td>\n",
       "      <td>2.00</td>\n",
       "      <td>2.000000</td>\n",
       "      <td>2.00</td>\n",
       "      <td>2.000000</td>\n",
       "      <td>2.00</td>\n",
       "      <td>2.00</td>\n",
       "      <td>2.00</td>\n",
       "      <td>...</td>\n",
       "      <td>2.000000</td>\n",
       "      <td>2.00</td>\n",
       "      <td>2.00</td>\n",
       "      <td>2.000000</td>\n",
       "      <td>2.00</td>\n",
       "      <td>2.00</td>\n",
       "      <td>2.00</td>\n",
       "      <td>2.00</td>\n",
       "      <td>2.000000</td>\n",
       "      <td>2.00</td>\n",
       "    </tr>\n",
       "    <tr>\n",
       "      <th>2</th>\n",
       "      <td>24.0</td>\n",
       "      <td>23.00</td>\n",
       "      <td>45.00</td>\n",
       "      <td>29.00</td>\n",
       "      <td>23.000000</td>\n",
       "      <td>23.00</td>\n",
       "      <td>31.000000</td>\n",
       "      <td>31.00</td>\n",
       "      <td>24.00</td>\n",
       "      <td>28.00</td>\n",
       "      <td>...</td>\n",
       "      <td>26.000000</td>\n",
       "      <td>36.00</td>\n",
       "      <td>23.00</td>\n",
       "      <td>44.000000</td>\n",
       "      <td>23.00</td>\n",
       "      <td>25.00</td>\n",
       "      <td>34.00</td>\n",
       "      <td>43.00</td>\n",
       "      <td>23.000000</td>\n",
       "      <td>23.00</td>\n",
       "    </tr>\n",
       "    <tr>\n",
       "      <th>3</th>\n",
       "      <td>0.0</td>\n",
       "      <td>0.00</td>\n",
       "      <td>0.00</td>\n",
       "      <td>0.00</td>\n",
       "      <td>0.000000</td>\n",
       "      <td>0.00</td>\n",
       "      <td>0.000000</td>\n",
       "      <td>0.00</td>\n",
       "      <td>0.00</td>\n",
       "      <td>0.00</td>\n",
       "      <td>...</td>\n",
       "      <td>0.000000</td>\n",
       "      <td>0.00</td>\n",
       "      <td>0.00</td>\n",
       "      <td>0.000000</td>\n",
       "      <td>0.00</td>\n",
       "      <td>0.00</td>\n",
       "      <td>0.00</td>\n",
       "      <td>0.00</td>\n",
       "      <td>0.000000</td>\n",
       "      <td>0.00</td>\n",
       "    </tr>\n",
       "    <tr>\n",
       "      <th>4</th>\n",
       "      <td>0.0</td>\n",
       "      <td>0.00</td>\n",
       "      <td>0.00</td>\n",
       "      <td>0.00</td>\n",
       "      <td>0.000000</td>\n",
       "      <td>0.00</td>\n",
       "      <td>97.590000</td>\n",
       "      <td>1005.54</td>\n",
       "      <td>0.00</td>\n",
       "      <td>0.00</td>\n",
       "      <td>...</td>\n",
       "      <td>0.000000</td>\n",
       "      <td>0.00</td>\n",
       "      <td>0.00</td>\n",
       "      <td>0.000000</td>\n",
       "      <td>53.85</td>\n",
       "      <td>0.00</td>\n",
       "      <td>0.00</td>\n",
       "      <td>0.00</td>\n",
       "      <td>0.000000</td>\n",
       "      <td>0.00</td>\n",
       "    </tr>\n",
       "    <tr>\n",
       "      <th>...</th>\n",
       "      <td>...</td>\n",
       "      <td>...</td>\n",
       "      <td>...</td>\n",
       "      <td>...</td>\n",
       "      <td>...</td>\n",
       "      <td>...</td>\n",
       "      <td>...</td>\n",
       "      <td>...</td>\n",
       "      <td>...</td>\n",
       "      <td>...</td>\n",
       "      <td>...</td>\n",
       "      <td>...</td>\n",
       "      <td>...</td>\n",
       "      <td>...</td>\n",
       "      <td>...</td>\n",
       "      <td>...</td>\n",
       "      <td>...</td>\n",
       "      <td>...</td>\n",
       "      <td>...</td>\n",
       "      <td>...</td>\n",
       "      <td>...</td>\n",
       "    </tr>\n",
       "    <tr>\n",
       "      <th>240</th>\n",
       "      <td>0.0</td>\n",
       "      <td>0.00</td>\n",
       "      <td>0.00</td>\n",
       "      <td>0.00</td>\n",
       "      <td>0.000000</td>\n",
       "      <td>0.00</td>\n",
       "      <td>0.000000</td>\n",
       "      <td>0.00</td>\n",
       "      <td>0.00</td>\n",
       "      <td>0.00</td>\n",
       "      <td>...</td>\n",
       "      <td>0.000000</td>\n",
       "      <td>0.00</td>\n",
       "      <td>0.00</td>\n",
       "      <td>0.000000</td>\n",
       "      <td>0.00</td>\n",
       "      <td>0.00</td>\n",
       "      <td>0.00</td>\n",
       "      <td>0.00</td>\n",
       "      <td>0.000000</td>\n",
       "      <td>0.00</td>\n",
       "    </tr>\n",
       "    <tr>\n",
       "      <th>241</th>\n",
       "      <td>0.0</td>\n",
       "      <td>0.00</td>\n",
       "      <td>0.00</td>\n",
       "      <td>0.00</td>\n",
       "      <td>0.000000</td>\n",
       "      <td>0.00</td>\n",
       "      <td>0.000000</td>\n",
       "      <td>0.00</td>\n",
       "      <td>0.00</td>\n",
       "      <td>0.00</td>\n",
       "      <td>...</td>\n",
       "      <td>0.000000</td>\n",
       "      <td>0.00</td>\n",
       "      <td>0.00</td>\n",
       "      <td>0.000000</td>\n",
       "      <td>0.00</td>\n",
       "      <td>0.00</td>\n",
       "      <td>0.00</td>\n",
       "      <td>0.00</td>\n",
       "      <td>0.000000</td>\n",
       "      <td>0.00</td>\n",
       "    </tr>\n",
       "    <tr>\n",
       "      <th>242</th>\n",
       "      <td>0.0</td>\n",
       "      <td>0.00</td>\n",
       "      <td>0.00</td>\n",
       "      <td>0.00</td>\n",
       "      <td>0.000000</td>\n",
       "      <td>0.00</td>\n",
       "      <td>0.000000</td>\n",
       "      <td>0.00</td>\n",
       "      <td>0.00</td>\n",
       "      <td>0.00</td>\n",
       "      <td>...</td>\n",
       "      <td>0.000000</td>\n",
       "      <td>0.00</td>\n",
       "      <td>0.00</td>\n",
       "      <td>0.000000</td>\n",
       "      <td>0.00</td>\n",
       "      <td>0.00</td>\n",
       "      <td>0.00</td>\n",
       "      <td>0.00</td>\n",
       "      <td>0.000000</td>\n",
       "      <td>0.00</td>\n",
       "    </tr>\n",
       "    <tr>\n",
       "      <th>243</th>\n",
       "      <td>0.0</td>\n",
       "      <td>0.00</td>\n",
       "      <td>0.00</td>\n",
       "      <td>0.00</td>\n",
       "      <td>0.000000</td>\n",
       "      <td>0.00</td>\n",
       "      <td>0.000000</td>\n",
       "      <td>0.00</td>\n",
       "      <td>0.00</td>\n",
       "      <td>0.00</td>\n",
       "      <td>...</td>\n",
       "      <td>0.000000</td>\n",
       "      <td>0.00</td>\n",
       "      <td>0.00</td>\n",
       "      <td>0.000000</td>\n",
       "      <td>0.00</td>\n",
       "      <td>0.00</td>\n",
       "      <td>0.00</td>\n",
       "      <td>0.00</td>\n",
       "      <td>0.000000</td>\n",
       "      <td>0.00</td>\n",
       "    </tr>\n",
       "    <tr>\n",
       "      <th>244</th>\n",
       "      <td>63200.7</td>\n",
       "      <td>88640.61</td>\n",
       "      <td>96314.16</td>\n",
       "      <td>117568.02</td>\n",
       "      <td>117310.979016</td>\n",
       "      <td>81443.55</td>\n",
       "      <td>117310.979016</td>\n",
       "      <td>277918.20</td>\n",
       "      <td>63651.06</td>\n",
       "      <td>69962.31</td>\n",
       "      <td>...</td>\n",
       "      <td>117310.979016</td>\n",
       "      <td>95510.49</td>\n",
       "      <td>158005.98</td>\n",
       "      <td>117310.979016</td>\n",
       "      <td>161478.51</td>\n",
       "      <td>53324.46</td>\n",
       "      <td>56028.48</td>\n",
       "      <td>38272.44</td>\n",
       "      <td>117310.979016</td>\n",
       "      <td>304163.07</td>\n",
       "    </tr>\n",
       "  </tbody>\n",
       "</table>\n",
       "<p>245 rows × 16000 columns</p>\n",
       "</div>"
      ],
      "text/plain": [
       "       0         1         2          3              4         5      \\\n",
       "0    17282.0  38270.00  31526.00   38737.00   16469.000000   4464.00   \n",
       "1        2.0      2.00      2.00       2.00       2.000000      2.00   \n",
       "2       24.0     23.00     45.00      29.00      23.000000     23.00   \n",
       "3        0.0      0.00      0.00       0.00       0.000000      0.00   \n",
       "4        0.0      0.00      0.00       0.00       0.000000      0.00   \n",
       "..       ...       ...       ...        ...            ...       ...   \n",
       "240      0.0      0.00      0.00       0.00       0.000000      0.00   \n",
       "241      0.0      0.00      0.00       0.00       0.000000      0.00   \n",
       "242      0.0      0.00      0.00       0.00       0.000000      0.00   \n",
       "243      0.0      0.00      0.00       0.00       0.000000      0.00   \n",
       "244  63200.7  88640.61  96314.16  117568.02  117310.979016  81443.55   \n",
       "\n",
       "             6          7         8         9      ...          15990  \\\n",
       "0       302.000000   22890.00  12211.00  11949.00  ...   31516.000000   \n",
       "1         2.000000       2.00      2.00      2.00  ...       2.000000   \n",
       "2        31.000000      31.00     24.00     28.00  ...      26.000000   \n",
       "3         0.000000       0.00      0.00      0.00  ...       0.000000   \n",
       "4        97.590000    1005.54      0.00      0.00  ...       0.000000   \n",
       "..             ...        ...       ...       ...  ...            ...   \n",
       "240       0.000000       0.00      0.00      0.00  ...       0.000000   \n",
       "241       0.000000       0.00      0.00      0.00  ...       0.000000   \n",
       "242       0.000000       0.00      0.00      0.00  ...       0.000000   \n",
       "243       0.000000       0.00      0.00      0.00  ...       0.000000   \n",
       "244  117310.979016  277918.20  63651.06  69962.31  ...  117310.979016   \n",
       "\n",
       "        15991      15992          15993      15994     15995     15996  \\\n",
       "0     1337.00   37006.00   19809.000000   10783.00  38333.00  26389.00   \n",
       "1        2.00       2.00       2.000000       2.00      2.00      2.00   \n",
       "2       36.00      23.00      44.000000      23.00     25.00     34.00   \n",
       "3        0.00       0.00       0.000000       0.00      0.00      0.00   \n",
       "4        0.00       0.00       0.000000      53.85      0.00      0.00   \n",
       "..        ...        ...            ...        ...       ...       ...   \n",
       "240      0.00       0.00       0.000000       0.00      0.00      0.00   \n",
       "241      0.00       0.00       0.000000       0.00      0.00      0.00   \n",
       "242      0.00       0.00       0.000000       0.00      0.00      0.00   \n",
       "243      0.00       0.00       0.000000       0.00      0.00      0.00   \n",
       "244  95510.49  158005.98  117310.979016  161478.51  53324.46  56028.48   \n",
       "\n",
       "        15997          15998      15999  \n",
       "0     2025.00   17327.000000   25406.00  \n",
       "1        2.00       2.000000       2.00  \n",
       "2       43.00      23.000000      23.00  \n",
       "3        0.00       0.000000       0.00  \n",
       "4        0.00       0.000000       0.00  \n",
       "..        ...            ...        ...  \n",
       "240      0.00       0.000000       0.00  \n",
       "241      0.00       0.000000       0.00  \n",
       "242      0.00       0.000000       0.00  \n",
       "243      0.00       0.000000       0.00  \n",
       "244  38272.44  117310.979016  304163.07  \n",
       "\n",
       "[245 rows x 16000 columns]"
      ]
     },
     "execution_count": 27,
     "metadata": {},
     "output_type": "execute_result"
    }
   ],
   "source": [
    "X_train_T"
   ]
  },
  {
   "cell_type": "code",
   "execution_count": 28,
   "metadata": {},
   "outputs": [
    {
     "name": "stdout",
     "output_type": "stream",
     "text": [
      "Feature duplikat adalah feature index: \n",
      " [37, 39, 43, 45, 71, 73, 90, 94, 96, 97, 99, 118, 124, 137, 139, 140, 141, 142]\n"
     ]
    }
   ],
   "source": [
    "# mencari feature yang duplikat (sekarang sedang dalam bentuk baris)\n",
    "duplicated_features = X_train_T.duplicated()\n",
    "\n",
    "list_duplicate = []\n",
    "\n",
    "for idx, feat in enumerate(duplicated_features):\n",
    "    if feat == True:\n",
    "        list_duplicate.append(idx)\n",
    "\n",
    "print('Feature duplikat adalah feature index: \\n',list_duplicate)"
   ]
  },
  {
   "cell_type": "code",
   "execution_count": 29,
   "metadata": {},
   "outputs": [
    {
     "data": {
      "text/html": [
       "<div>\n",
       "<style scoped>\n",
       "    .dataframe tbody tr th:only-of-type {\n",
       "        vertical-align: middle;\n",
       "    }\n",
       "\n",
       "    .dataframe tbody tr th {\n",
       "        vertical-align: top;\n",
       "    }\n",
       "\n",
       "    .dataframe thead th {\n",
       "        text-align: right;\n",
       "    }\n",
       "</style>\n",
       "<table border=\"1\" class=\"dataframe\">\n",
       "  <thead>\n",
       "    <tr style=\"text-align: right;\">\n",
       "      <th></th>\n",
       "      <th>37</th>\n",
       "      <th>39</th>\n",
       "      <th>43</th>\n",
       "      <th>45</th>\n",
       "      <th>71</th>\n",
       "      <th>73</th>\n",
       "      <th>90</th>\n",
       "      <th>94</th>\n",
       "      <th>96</th>\n",
       "      <th>97</th>\n",
       "      <th>99</th>\n",
       "      <th>118</th>\n",
       "      <th>124</th>\n",
       "      <th>137</th>\n",
       "      <th>139</th>\n",
       "      <th>140</th>\n",
       "      <th>141</th>\n",
       "      <th>142</th>\n",
       "    </tr>\n",
       "  </thead>\n",
       "  <tbody>\n",
       "    <tr>\n",
       "      <th>0</th>\n",
       "      <td>0.0</td>\n",
       "      <td>0.0</td>\n",
       "      <td>0.0</td>\n",
       "      <td>0.0</td>\n",
       "      <td>0.0</td>\n",
       "      <td>0.0</td>\n",
       "      <td>0.0</td>\n",
       "      <td>0.0</td>\n",
       "      <td>0.0</td>\n",
       "      <td>0.0</td>\n",
       "      <td>0.0</td>\n",
       "      <td>0.0</td>\n",
       "      <td>0.0</td>\n",
       "      <td>3.0</td>\n",
       "      <td>0.0</td>\n",
       "      <td>0.0</td>\n",
       "      <td>0.0</td>\n",
       "      <td>0.0</td>\n",
       "    </tr>\n",
       "    <tr>\n",
       "      <th>1</th>\n",
       "      <td>0.0</td>\n",
       "      <td>0.0</td>\n",
       "      <td>0.0</td>\n",
       "      <td>0.0</td>\n",
       "      <td>0.0</td>\n",
       "      <td>0.0</td>\n",
       "      <td>0.0</td>\n",
       "      <td>0.0</td>\n",
       "      <td>0.0</td>\n",
       "      <td>0.0</td>\n",
       "      <td>0.0</td>\n",
       "      <td>0.0</td>\n",
       "      <td>0.0</td>\n",
       "      <td>0.0</td>\n",
       "      <td>0.0</td>\n",
       "      <td>0.0</td>\n",
       "      <td>0.0</td>\n",
       "      <td>0.0</td>\n",
       "    </tr>\n",
       "    <tr>\n",
       "      <th>2</th>\n",
       "      <td>0.0</td>\n",
       "      <td>0.0</td>\n",
       "      <td>1.0</td>\n",
       "      <td>0.0</td>\n",
       "      <td>0.0</td>\n",
       "      <td>0.0</td>\n",
       "      <td>0.0</td>\n",
       "      <td>0.0</td>\n",
       "      <td>0.0</td>\n",
       "      <td>0.0</td>\n",
       "      <td>0.0</td>\n",
       "      <td>0.0</td>\n",
       "      <td>0.0</td>\n",
       "      <td>3.0</td>\n",
       "      <td>0.0</td>\n",
       "      <td>0.0</td>\n",
       "      <td>0.0</td>\n",
       "      <td>0.0</td>\n",
       "    </tr>\n",
       "    <tr>\n",
       "      <th>3</th>\n",
       "      <td>0.0</td>\n",
       "      <td>0.0</td>\n",
       "      <td>0.0</td>\n",
       "      <td>0.0</td>\n",
       "      <td>0.0</td>\n",
       "      <td>0.0</td>\n",
       "      <td>0.0</td>\n",
       "      <td>0.0</td>\n",
       "      <td>0.0</td>\n",
       "      <td>0.0</td>\n",
       "      <td>0.0</td>\n",
       "      <td>0.0</td>\n",
       "      <td>0.0</td>\n",
       "      <td>0.0</td>\n",
       "      <td>0.0</td>\n",
       "      <td>0.0</td>\n",
       "      <td>0.0</td>\n",
       "      <td>0.0</td>\n",
       "    </tr>\n",
       "    <tr>\n",
       "      <th>4</th>\n",
       "      <td>0.0</td>\n",
       "      <td>0.0</td>\n",
       "      <td>0.0</td>\n",
       "      <td>0.0</td>\n",
       "      <td>0.0</td>\n",
       "      <td>0.0</td>\n",
       "      <td>0.0</td>\n",
       "      <td>0.0</td>\n",
       "      <td>0.0</td>\n",
       "      <td>0.0</td>\n",
       "      <td>0.0</td>\n",
       "      <td>0.0</td>\n",
       "      <td>0.0</td>\n",
       "      <td>30.0</td>\n",
       "      <td>0.0</td>\n",
       "      <td>0.0</td>\n",
       "      <td>0.0</td>\n",
       "      <td>0.0</td>\n",
       "    </tr>\n",
       "    <tr>\n",
       "      <th>...</th>\n",
       "      <td>...</td>\n",
       "      <td>...</td>\n",
       "      <td>...</td>\n",
       "      <td>...</td>\n",
       "      <td>...</td>\n",
       "      <td>...</td>\n",
       "      <td>...</td>\n",
       "      <td>...</td>\n",
       "      <td>...</td>\n",
       "      <td>...</td>\n",
       "      <td>...</td>\n",
       "      <td>...</td>\n",
       "      <td>...</td>\n",
       "      <td>...</td>\n",
       "      <td>...</td>\n",
       "      <td>...</td>\n",
       "      <td>...</td>\n",
       "      <td>...</td>\n",
       "    </tr>\n",
       "    <tr>\n",
       "      <th>15995</th>\n",
       "      <td>0.0</td>\n",
       "      <td>0.0</td>\n",
       "      <td>0.0</td>\n",
       "      <td>0.0</td>\n",
       "      <td>0.0</td>\n",
       "      <td>0.0</td>\n",
       "      <td>0.0</td>\n",
       "      <td>0.0</td>\n",
       "      <td>0.0</td>\n",
       "      <td>0.0</td>\n",
       "      <td>0.0</td>\n",
       "      <td>0.0</td>\n",
       "      <td>0.0</td>\n",
       "      <td>3.0</td>\n",
       "      <td>0.0</td>\n",
       "      <td>0.0</td>\n",
       "      <td>0.0</td>\n",
       "      <td>0.0</td>\n",
       "    </tr>\n",
       "    <tr>\n",
       "      <th>15996</th>\n",
       "      <td>0.0</td>\n",
       "      <td>0.0</td>\n",
       "      <td>0.0</td>\n",
       "      <td>0.0</td>\n",
       "      <td>0.0</td>\n",
       "      <td>0.0</td>\n",
       "      <td>0.0</td>\n",
       "      <td>0.0</td>\n",
       "      <td>0.0</td>\n",
       "      <td>0.0</td>\n",
       "      <td>0.0</td>\n",
       "      <td>0.0</td>\n",
       "      <td>0.0</td>\n",
       "      <td>3.0</td>\n",
       "      <td>0.0</td>\n",
       "      <td>0.0</td>\n",
       "      <td>0.0</td>\n",
       "      <td>0.0</td>\n",
       "    </tr>\n",
       "    <tr>\n",
       "      <th>15997</th>\n",
       "      <td>0.0</td>\n",
       "      <td>0.0</td>\n",
       "      <td>0.0</td>\n",
       "      <td>0.0</td>\n",
       "      <td>0.0</td>\n",
       "      <td>0.0</td>\n",
       "      <td>0.0</td>\n",
       "      <td>0.0</td>\n",
       "      <td>0.0</td>\n",
       "      <td>0.0</td>\n",
       "      <td>0.0</td>\n",
       "      <td>0.0</td>\n",
       "      <td>0.0</td>\n",
       "      <td>0.0</td>\n",
       "      <td>0.0</td>\n",
       "      <td>0.0</td>\n",
       "      <td>0.0</td>\n",
       "      <td>0.0</td>\n",
       "    </tr>\n",
       "    <tr>\n",
       "      <th>15998</th>\n",
       "      <td>0.0</td>\n",
       "      <td>0.0</td>\n",
       "      <td>0.0</td>\n",
       "      <td>0.0</td>\n",
       "      <td>0.0</td>\n",
       "      <td>0.0</td>\n",
       "      <td>0.0</td>\n",
       "      <td>0.0</td>\n",
       "      <td>0.0</td>\n",
       "      <td>0.0</td>\n",
       "      <td>0.0</td>\n",
       "      <td>0.0</td>\n",
       "      <td>0.0</td>\n",
       "      <td>3.0</td>\n",
       "      <td>0.0</td>\n",
       "      <td>0.0</td>\n",
       "      <td>0.0</td>\n",
       "      <td>0.0</td>\n",
       "    </tr>\n",
       "    <tr>\n",
       "      <th>15999</th>\n",
       "      <td>0.0</td>\n",
       "      <td>0.0</td>\n",
       "      <td>0.0</td>\n",
       "      <td>0.0</td>\n",
       "      <td>0.0</td>\n",
       "      <td>0.0</td>\n",
       "      <td>0.0</td>\n",
       "      <td>0.0</td>\n",
       "      <td>0.0</td>\n",
       "      <td>0.0</td>\n",
       "      <td>0.0</td>\n",
       "      <td>0.0</td>\n",
       "      <td>0.0</td>\n",
       "      <td>3.0</td>\n",
       "      <td>0.0</td>\n",
       "      <td>0.0</td>\n",
       "      <td>0.0</td>\n",
       "      <td>0.0</td>\n",
       "    </tr>\n",
       "  </tbody>\n",
       "</table>\n",
       "<p>16000 rows × 18 columns</p>\n",
       "</div>"
      ],
      "text/plain": [
       "       37   39   43   45   71   73   90   94   96   97   99   118  124   137  \\\n",
       "0      0.0  0.0  0.0  0.0  0.0  0.0  0.0  0.0  0.0  0.0  0.0  0.0  0.0   3.0   \n",
       "1      0.0  0.0  0.0  0.0  0.0  0.0  0.0  0.0  0.0  0.0  0.0  0.0  0.0   0.0   \n",
       "2      0.0  0.0  1.0  0.0  0.0  0.0  0.0  0.0  0.0  0.0  0.0  0.0  0.0   3.0   \n",
       "3      0.0  0.0  0.0  0.0  0.0  0.0  0.0  0.0  0.0  0.0  0.0  0.0  0.0   0.0   \n",
       "4      0.0  0.0  0.0  0.0  0.0  0.0  0.0  0.0  0.0  0.0  0.0  0.0  0.0  30.0   \n",
       "...    ...  ...  ...  ...  ...  ...  ...  ...  ...  ...  ...  ...  ...   ...   \n",
       "15995  0.0  0.0  0.0  0.0  0.0  0.0  0.0  0.0  0.0  0.0  0.0  0.0  0.0   3.0   \n",
       "15996  0.0  0.0  0.0  0.0  0.0  0.0  0.0  0.0  0.0  0.0  0.0  0.0  0.0   3.0   \n",
       "15997  0.0  0.0  0.0  0.0  0.0  0.0  0.0  0.0  0.0  0.0  0.0  0.0  0.0   0.0   \n",
       "15998  0.0  0.0  0.0  0.0  0.0  0.0  0.0  0.0  0.0  0.0  0.0  0.0  0.0   3.0   \n",
       "15999  0.0  0.0  0.0  0.0  0.0  0.0  0.0  0.0  0.0  0.0  0.0  0.0  0.0   3.0   \n",
       "\n",
       "       139  140  141  142  \n",
       "0      0.0  0.0  0.0  0.0  \n",
       "1      0.0  0.0  0.0  0.0  \n",
       "2      0.0  0.0  0.0  0.0  \n",
       "3      0.0  0.0  0.0  0.0  \n",
       "4      0.0  0.0  0.0  0.0  \n",
       "...    ...  ...  ...  ...  \n",
       "15995  0.0  0.0  0.0  0.0  \n",
       "15996  0.0  0.0  0.0  0.0  \n",
       "15997  0.0  0.0  0.0  0.0  \n",
       "15998  0.0  0.0  0.0  0.0  \n",
       "15999  0.0  0.0  0.0  0.0  \n",
       "\n",
       "[16000 rows x 18 columns]"
      ]
     },
     "execution_count": 29,
     "metadata": {},
     "output_type": "execute_result"
    }
   ],
   "source": [
    "# Feature yang duplikat\n",
    "pd.DataFrame(X_train_filtered).iloc[:,list_duplicate]\n",
    "\n",
    "# Terdapat 18 feature duplikat"
   ]
  },
  {
   "cell_type": "code",
   "execution_count": 30,
   "metadata": {},
   "outputs": [
    {
     "name": "stdout",
     "output_type": "stream",
     "text": [
      "(16000, 370) dataset awal\n",
      "(16000, 291) setelah dikurangi dengan yang variance=0\n",
      "(16000, 245) setelah dikurangi dengan yang variance=0.01\n",
      "(16000, 227) setelah dikurangi dengan yang duplikat\n"
     ]
    }
   ],
   "source": [
    "# Feature yang bukan duplikat (True/False)\n",
    "features_keep = [not i for i in duplicated_features]\n",
    "features_keep\n",
    "\n",
    "# Feature yang bukan duplikat\n",
    "X_train_unique = X_train_T[features_keep].T\n",
    "X_test_unique = X_test_T[features_keep].T\n",
    "\n",
    "print(X_train.shape, 'dataset awal')\n",
    "print(X_train_filtered.shape, 'setelah dikurangi dengan yang variance=0')\n",
    "print(X_train_quasi_filtered.shape, 'setelah dikurangi dengan yang variance=0.01')\n",
    "print(X_train_unique.shape, 'setelah dikurangi dengan yang duplikat')"
   ]
  },
  {
   "cell_type": "code",
   "execution_count": null,
   "metadata": {},
   "outputs": [],
   "source": []
  },
  {
   "cell_type": "markdown",
   "metadata": {},
   "source": [
    "#### Membandingkan Performa Model dengan menggunakan feture\n",
    "- dataset awal\n",
    "- setelah dikurangi dengan yang variance=0\n",
    "- setelah dikurangi dengan yang variance=0.01\n",
    "- setelah dikurangi dengan yang duplikat"
   ]
  },
  {
   "cell_type": "code",
   "execution_count": 32,
   "metadata": {},
   "outputs": [],
   "source": [
    "def run_tree(X_train, X_test, y_train, y_test):\n",
    "\n",
    "    model = DecisionTreeRegressor(random_state=0)\n",
    "    model.fit(X_train, y_train)\n",
    "\n",
    "    y_pred = model.predict(X_test)\n",
    "    print('f1 score: ',f1_score(y_test,y_pred))\n"
   ]
  },
  {
   "cell_type": "code",
   "execution_count": 33,
   "metadata": {},
   "outputs": [
    {
     "name": "stdout",
     "output_type": "stream",
     "text": [
      "f1 score:  0.16091954022988506\n"
     ]
    }
   ],
   "source": [
    "# Modeling dengan dataset awal\n",
    "run_tree(X_train, X_test, y_train, y_test)\n",
    "\n",
    "# Kecepatan modeling paling lama karena featurenya lebih banyak"
   ]
  },
  {
   "cell_type": "code",
   "execution_count": 34,
   "metadata": {},
   "outputs": [
    {
     "name": "stdout",
     "output_type": "stream",
     "text": [
      "f1 score:  0.16909620991253646\n"
     ]
    }
   ],
   "source": [
    "# Modeling dengan dataset setelah dikurangi dengan yang variance=0\n",
    "run_tree(X_train_filtered, X_test_filtered, y_train, y_test)\n",
    "\n",
    "# Kecepatan modeling lebih cepat dari sebelumnya"
   ]
  },
  {
   "cell_type": "code",
   "execution_count": 35,
   "metadata": {},
   "outputs": [
    {
     "name": "stdout",
     "output_type": "stream",
     "text": [
      "f1 score:  0.16756756756756758\n"
     ]
    }
   ],
   "source": [
    "# Modeling dengan dataset setelah dikurangi dengan yang variance=0.01\n",
    "run_tree(X_train_quasi_filtered, X_test_quasi_filtered, y_train, y_test)\n",
    "\n",
    "# F1 score menurun, tapi kecepatan modeling lebih cepat"
   ]
  },
  {
   "cell_type": "code",
   "execution_count": 36,
   "metadata": {},
   "outputs": [
    {
     "name": "stdout",
     "output_type": "stream",
     "text": [
      "f1 score:  0.14285714285714288\n"
     ]
    }
   ],
   "source": [
    "# Modeling dengan dataset setelah dikurangi dengan feature duplikat\n",
    "run_tree(X_train_unique, X_test_unique, y_train, y_test)\n",
    "\n",
    "# F1 score menurun, tapi kecepatan modeling lebih cepat"
   ]
  },
  {
   "cell_type": "code",
   "execution_count": null,
   "metadata": {},
   "outputs": [],
   "source": []
  },
  {
   "cell_type": "markdown",
   "metadata": {},
   "source": [
    "# Wrapper Method\n",
    "\n",
    "Kelebihan Wrapper Method Feature Selection:\n",
    "-\tLangsung mengetahui performa dari model dengan feature yang sudah terpilih. \n",
    "\n",
    "Kekurangan Wrapper Method Feature Selection:\n",
    "-\tHasilnya bisa berbeda-beda, tergantung dari algoritma yang digunakan.\n",
    "-\tMemakan waktu lebih lama dari pada Filter Method.\n",
    "\n",
    "Kali ini kita akan melakukan 3 metode pada wrapper method:\n",
    "- Forward\n",
    "- Backward\n",
    "- Exhaustive\n"
   ]
  },
  {
   "cell_type": "code",
   "execution_count": 37,
   "metadata": {},
   "outputs": [],
   "source": [
    "from mlxtend.feature_selection import SequentialFeatureSelector as SFS\n",
    "from mlxtend.feature_selection import ExhaustiveFeatureSelector as EFS\n",
    "from mlxtend.plotting import plot_sequential_feature_selection as plot_sfs"
   ]
  },
  {
   "cell_type": "code",
   "execution_count": 38,
   "metadata": {},
   "outputs": [
    {
     "data": {
      "text/html": [
       "<div>\n",
       "<style scoped>\n",
       "    .dataframe tbody tr th:only-of-type {\n",
       "        vertical-align: middle;\n",
       "    }\n",
       "\n",
       "    .dataframe tbody tr th {\n",
       "        vertical-align: top;\n",
       "    }\n",
       "\n",
       "    .dataframe thead th {\n",
       "        text-align: right;\n",
       "    }\n",
       "</style>\n",
       "<table border=\"1\" class=\"dataframe\">\n",
       "  <thead>\n",
       "    <tr style=\"text-align: right;\">\n",
       "      <th></th>\n",
       "      <th>age</th>\n",
       "      <th>sex</th>\n",
       "      <th>bmi</th>\n",
       "      <th>bp</th>\n",
       "      <th>s1</th>\n",
       "      <th>s2</th>\n",
       "      <th>s3</th>\n",
       "      <th>s4</th>\n",
       "      <th>s5</th>\n",
       "      <th>s6</th>\n",
       "      <th>target</th>\n",
       "    </tr>\n",
       "  </thead>\n",
       "  <tbody>\n",
       "    <tr>\n",
       "      <th>0</th>\n",
       "      <td>0.038076</td>\n",
       "      <td>0.050680</td>\n",
       "      <td>0.061696</td>\n",
       "      <td>0.021872</td>\n",
       "      <td>-0.044223</td>\n",
       "      <td>-0.034821</td>\n",
       "      <td>-0.043401</td>\n",
       "      <td>-0.002592</td>\n",
       "      <td>0.019908</td>\n",
       "      <td>-0.017646</td>\n",
       "      <td>151.0</td>\n",
       "    </tr>\n",
       "    <tr>\n",
       "      <th>1</th>\n",
       "      <td>-0.001882</td>\n",
       "      <td>-0.044642</td>\n",
       "      <td>-0.051474</td>\n",
       "      <td>-0.026328</td>\n",
       "      <td>-0.008449</td>\n",
       "      <td>-0.019163</td>\n",
       "      <td>0.074412</td>\n",
       "      <td>-0.039493</td>\n",
       "      <td>-0.068330</td>\n",
       "      <td>-0.092204</td>\n",
       "      <td>75.0</td>\n",
       "    </tr>\n",
       "    <tr>\n",
       "      <th>2</th>\n",
       "      <td>0.085299</td>\n",
       "      <td>0.050680</td>\n",
       "      <td>0.044451</td>\n",
       "      <td>-0.005671</td>\n",
       "      <td>-0.045599</td>\n",
       "      <td>-0.034194</td>\n",
       "      <td>-0.032356</td>\n",
       "      <td>-0.002592</td>\n",
       "      <td>0.002864</td>\n",
       "      <td>-0.025930</td>\n",
       "      <td>141.0</td>\n",
       "    </tr>\n",
       "    <tr>\n",
       "      <th>3</th>\n",
       "      <td>-0.089063</td>\n",
       "      <td>-0.044642</td>\n",
       "      <td>-0.011595</td>\n",
       "      <td>-0.036656</td>\n",
       "      <td>0.012191</td>\n",
       "      <td>0.024991</td>\n",
       "      <td>-0.036038</td>\n",
       "      <td>0.034309</td>\n",
       "      <td>0.022692</td>\n",
       "      <td>-0.009362</td>\n",
       "      <td>206.0</td>\n",
       "    </tr>\n",
       "    <tr>\n",
       "      <th>4</th>\n",
       "      <td>0.005383</td>\n",
       "      <td>-0.044642</td>\n",
       "      <td>-0.036385</td>\n",
       "      <td>0.021872</td>\n",
       "      <td>0.003935</td>\n",
       "      <td>0.015596</td>\n",
       "      <td>0.008142</td>\n",
       "      <td>-0.002592</td>\n",
       "      <td>-0.031991</td>\n",
       "      <td>-0.046641</td>\n",
       "      <td>135.0</td>\n",
       "    </tr>\n",
       "    <tr>\n",
       "      <th>...</th>\n",
       "      <td>...</td>\n",
       "      <td>...</td>\n",
       "      <td>...</td>\n",
       "      <td>...</td>\n",
       "      <td>...</td>\n",
       "      <td>...</td>\n",
       "      <td>...</td>\n",
       "      <td>...</td>\n",
       "      <td>...</td>\n",
       "      <td>...</td>\n",
       "      <td>...</td>\n",
       "    </tr>\n",
       "    <tr>\n",
       "      <th>437</th>\n",
       "      <td>0.041708</td>\n",
       "      <td>0.050680</td>\n",
       "      <td>0.019662</td>\n",
       "      <td>0.059744</td>\n",
       "      <td>-0.005697</td>\n",
       "      <td>-0.002566</td>\n",
       "      <td>-0.028674</td>\n",
       "      <td>-0.002592</td>\n",
       "      <td>0.031193</td>\n",
       "      <td>0.007207</td>\n",
       "      <td>178.0</td>\n",
       "    </tr>\n",
       "    <tr>\n",
       "      <th>438</th>\n",
       "      <td>-0.005515</td>\n",
       "      <td>0.050680</td>\n",
       "      <td>-0.015906</td>\n",
       "      <td>-0.067642</td>\n",
       "      <td>0.049341</td>\n",
       "      <td>0.079165</td>\n",
       "      <td>-0.028674</td>\n",
       "      <td>0.034309</td>\n",
       "      <td>-0.018118</td>\n",
       "      <td>0.044485</td>\n",
       "      <td>104.0</td>\n",
       "    </tr>\n",
       "    <tr>\n",
       "      <th>439</th>\n",
       "      <td>0.041708</td>\n",
       "      <td>0.050680</td>\n",
       "      <td>-0.015906</td>\n",
       "      <td>0.017282</td>\n",
       "      <td>-0.037344</td>\n",
       "      <td>-0.013840</td>\n",
       "      <td>-0.024993</td>\n",
       "      <td>-0.011080</td>\n",
       "      <td>-0.046879</td>\n",
       "      <td>0.015491</td>\n",
       "      <td>132.0</td>\n",
       "    </tr>\n",
       "    <tr>\n",
       "      <th>440</th>\n",
       "      <td>-0.045472</td>\n",
       "      <td>-0.044642</td>\n",
       "      <td>0.039062</td>\n",
       "      <td>0.001215</td>\n",
       "      <td>0.016318</td>\n",
       "      <td>0.015283</td>\n",
       "      <td>-0.028674</td>\n",
       "      <td>0.026560</td>\n",
       "      <td>0.044528</td>\n",
       "      <td>-0.025930</td>\n",
       "      <td>220.0</td>\n",
       "    </tr>\n",
       "    <tr>\n",
       "      <th>441</th>\n",
       "      <td>-0.045472</td>\n",
       "      <td>-0.044642</td>\n",
       "      <td>-0.073030</td>\n",
       "      <td>-0.081414</td>\n",
       "      <td>0.083740</td>\n",
       "      <td>0.027809</td>\n",
       "      <td>0.173816</td>\n",
       "      <td>-0.039493</td>\n",
       "      <td>-0.004220</td>\n",
       "      <td>0.003064</td>\n",
       "      <td>57.0</td>\n",
       "    </tr>\n",
       "  </tbody>\n",
       "</table>\n",
       "<p>442 rows × 11 columns</p>\n",
       "</div>"
      ],
      "text/plain": [
       "          age       sex       bmi        bp        s1        s2        s3  \\\n",
       "0    0.038076  0.050680  0.061696  0.021872 -0.044223 -0.034821 -0.043401   \n",
       "1   -0.001882 -0.044642 -0.051474 -0.026328 -0.008449 -0.019163  0.074412   \n",
       "2    0.085299  0.050680  0.044451 -0.005671 -0.045599 -0.034194 -0.032356   \n",
       "3   -0.089063 -0.044642 -0.011595 -0.036656  0.012191  0.024991 -0.036038   \n",
       "4    0.005383 -0.044642 -0.036385  0.021872  0.003935  0.015596  0.008142   \n",
       "..        ...       ...       ...       ...       ...       ...       ...   \n",
       "437  0.041708  0.050680  0.019662  0.059744 -0.005697 -0.002566 -0.028674   \n",
       "438 -0.005515  0.050680 -0.015906 -0.067642  0.049341  0.079165 -0.028674   \n",
       "439  0.041708  0.050680 -0.015906  0.017282 -0.037344 -0.013840 -0.024993   \n",
       "440 -0.045472 -0.044642  0.039062  0.001215  0.016318  0.015283 -0.028674   \n",
       "441 -0.045472 -0.044642 -0.073030 -0.081414  0.083740  0.027809  0.173816   \n",
       "\n",
       "           s4        s5        s6  target  \n",
       "0   -0.002592  0.019908 -0.017646   151.0  \n",
       "1   -0.039493 -0.068330 -0.092204    75.0  \n",
       "2   -0.002592  0.002864 -0.025930   141.0  \n",
       "3    0.034309  0.022692 -0.009362   206.0  \n",
       "4   -0.002592 -0.031991 -0.046641   135.0  \n",
       "..        ...       ...       ...     ...  \n",
       "437 -0.002592  0.031193  0.007207   178.0  \n",
       "438  0.034309 -0.018118  0.044485   104.0  \n",
       "439 -0.011080 -0.046879  0.015491   132.0  \n",
       "440  0.026560  0.044528 -0.025930   220.0  \n",
       "441 -0.039493 -0.004220  0.003064    57.0  \n",
       "\n",
       "[442 rows x 11 columns]"
      ]
     },
     "execution_count": 38,
     "metadata": {},
     "output_type": "execute_result"
    }
   ],
   "source": [
    "# features\n",
    "df = pd.DataFrame(data=load_diabetes().data, columns=load_diabetes().feature_names)\n",
    "\n",
    "# target\n",
    "df['target'] = load_diabetes().target\n",
    "\n",
    "df"
   ]
  },
  {
   "cell_type": "code",
   "execution_count": 39,
   "metadata": {},
   "outputs": [
    {
     "data": {
      "text/plain": [
       "age       0\n",
       "sex       0\n",
       "bmi       0\n",
       "bp        0\n",
       "s1        0\n",
       "s2        0\n",
       "s3        0\n",
       "s4        0\n",
       "s5        0\n",
       "s6        0\n",
       "target    0\n",
       "dtype: int64"
      ]
     },
     "execution_count": 39,
     "metadata": {},
     "output_type": "execute_result"
    }
   ],
   "source": [
    "df.isna().sum()"
   ]
  },
  {
   "cell_type": "code",
   "execution_count": 40,
   "metadata": {},
   "outputs": [
    {
     "data": {
      "text/html": [
       "<div>\n",
       "<style scoped>\n",
       "    .dataframe tbody tr th:only-of-type {\n",
       "        vertical-align: middle;\n",
       "    }\n",
       "\n",
       "    .dataframe tbody tr th {\n",
       "        vertical-align: top;\n",
       "    }\n",
       "\n",
       "    .dataframe thead th {\n",
       "        text-align: right;\n",
       "    }\n",
       "</style>\n",
       "<table border=\"1\" class=\"dataframe\">\n",
       "  <thead>\n",
       "    <tr style=\"text-align: right;\">\n",
       "      <th></th>\n",
       "      <th>count</th>\n",
       "      <th>mean</th>\n",
       "      <th>std</th>\n",
       "      <th>min</th>\n",
       "      <th>25%</th>\n",
       "      <th>50%</th>\n",
       "      <th>75%</th>\n",
       "      <th>max</th>\n",
       "    </tr>\n",
       "  </thead>\n",
       "  <tbody>\n",
       "    <tr>\n",
       "      <th>age</th>\n",
       "      <td>442.0</td>\n",
       "      <td>-3.634285e-16</td>\n",
       "      <td>0.047619</td>\n",
       "      <td>-0.107226</td>\n",
       "      <td>-0.037299</td>\n",
       "      <td>0.005383</td>\n",
       "      <td>0.038076</td>\n",
       "      <td>0.110727</td>\n",
       "    </tr>\n",
       "    <tr>\n",
       "      <th>sex</th>\n",
       "      <td>442.0</td>\n",
       "      <td>1.308343e-16</td>\n",
       "      <td>0.047619</td>\n",
       "      <td>-0.044642</td>\n",
       "      <td>-0.044642</td>\n",
       "      <td>-0.044642</td>\n",
       "      <td>0.050680</td>\n",
       "      <td>0.050680</td>\n",
       "    </tr>\n",
       "    <tr>\n",
       "      <th>bmi</th>\n",
       "      <td>442.0</td>\n",
       "      <td>-8.045349e-16</td>\n",
       "      <td>0.047619</td>\n",
       "      <td>-0.090275</td>\n",
       "      <td>-0.034229</td>\n",
       "      <td>-0.007284</td>\n",
       "      <td>0.031248</td>\n",
       "      <td>0.170555</td>\n",
       "    </tr>\n",
       "    <tr>\n",
       "      <th>bp</th>\n",
       "      <td>442.0</td>\n",
       "      <td>1.281655e-16</td>\n",
       "      <td>0.047619</td>\n",
       "      <td>-0.112400</td>\n",
       "      <td>-0.036656</td>\n",
       "      <td>-0.005671</td>\n",
       "      <td>0.035644</td>\n",
       "      <td>0.132044</td>\n",
       "    </tr>\n",
       "    <tr>\n",
       "      <th>s1</th>\n",
       "      <td>442.0</td>\n",
       "      <td>-8.835316e-17</td>\n",
       "      <td>0.047619</td>\n",
       "      <td>-0.126781</td>\n",
       "      <td>-0.034248</td>\n",
       "      <td>-0.004321</td>\n",
       "      <td>0.028358</td>\n",
       "      <td>0.153914</td>\n",
       "    </tr>\n",
       "    <tr>\n",
       "      <th>s2</th>\n",
       "      <td>442.0</td>\n",
       "      <td>1.327024e-16</td>\n",
       "      <td>0.047619</td>\n",
       "      <td>-0.115613</td>\n",
       "      <td>-0.030358</td>\n",
       "      <td>-0.003819</td>\n",
       "      <td>0.029844</td>\n",
       "      <td>0.198788</td>\n",
       "    </tr>\n",
       "    <tr>\n",
       "      <th>s3</th>\n",
       "      <td>442.0</td>\n",
       "      <td>-4.574646e-16</td>\n",
       "      <td>0.047619</td>\n",
       "      <td>-0.102307</td>\n",
       "      <td>-0.035117</td>\n",
       "      <td>-0.006584</td>\n",
       "      <td>0.029312</td>\n",
       "      <td>0.181179</td>\n",
       "    </tr>\n",
       "    <tr>\n",
       "      <th>s4</th>\n",
       "      <td>442.0</td>\n",
       "      <td>3.777301e-16</td>\n",
       "      <td>0.047619</td>\n",
       "      <td>-0.076395</td>\n",
       "      <td>-0.039493</td>\n",
       "      <td>-0.002592</td>\n",
       "      <td>0.034309</td>\n",
       "      <td>0.185234</td>\n",
       "    </tr>\n",
       "    <tr>\n",
       "      <th>s5</th>\n",
       "      <td>442.0</td>\n",
       "      <td>-3.830854e-16</td>\n",
       "      <td>0.047619</td>\n",
       "      <td>-0.126097</td>\n",
       "      <td>-0.033249</td>\n",
       "      <td>-0.001948</td>\n",
       "      <td>0.032433</td>\n",
       "      <td>0.133599</td>\n",
       "    </tr>\n",
       "    <tr>\n",
       "      <th>s6</th>\n",
       "      <td>442.0</td>\n",
       "      <td>-3.412882e-16</td>\n",
       "      <td>0.047619</td>\n",
       "      <td>-0.137767</td>\n",
       "      <td>-0.033179</td>\n",
       "      <td>-0.001078</td>\n",
       "      <td>0.027917</td>\n",
       "      <td>0.135612</td>\n",
       "    </tr>\n",
       "    <tr>\n",
       "      <th>target</th>\n",
       "      <td>442.0</td>\n",
       "      <td>1.521335e+02</td>\n",
       "      <td>77.093005</td>\n",
       "      <td>25.000000</td>\n",
       "      <td>87.000000</td>\n",
       "      <td>140.500000</td>\n",
       "      <td>211.500000</td>\n",
       "      <td>346.000000</td>\n",
       "    </tr>\n",
       "  </tbody>\n",
       "</table>\n",
       "</div>"
      ],
      "text/plain": [
       "        count          mean        std        min        25%         50%  \\\n",
       "age     442.0 -3.634285e-16   0.047619  -0.107226  -0.037299    0.005383   \n",
       "sex     442.0  1.308343e-16   0.047619  -0.044642  -0.044642   -0.044642   \n",
       "bmi     442.0 -8.045349e-16   0.047619  -0.090275  -0.034229   -0.007284   \n",
       "bp      442.0  1.281655e-16   0.047619  -0.112400  -0.036656   -0.005671   \n",
       "s1      442.0 -8.835316e-17   0.047619  -0.126781  -0.034248   -0.004321   \n",
       "s2      442.0  1.327024e-16   0.047619  -0.115613  -0.030358   -0.003819   \n",
       "s3      442.0 -4.574646e-16   0.047619  -0.102307  -0.035117   -0.006584   \n",
       "s4      442.0  3.777301e-16   0.047619  -0.076395  -0.039493   -0.002592   \n",
       "s5      442.0 -3.830854e-16   0.047619  -0.126097  -0.033249   -0.001948   \n",
       "s6      442.0 -3.412882e-16   0.047619  -0.137767  -0.033179   -0.001078   \n",
       "target  442.0  1.521335e+02  77.093005  25.000000  87.000000  140.500000   \n",
       "\n",
       "               75%         max  \n",
       "age       0.038076    0.110727  \n",
       "sex       0.050680    0.050680  \n",
       "bmi       0.031248    0.170555  \n",
       "bp        0.035644    0.132044  \n",
       "s1        0.028358    0.153914  \n",
       "s2        0.029844    0.198788  \n",
       "s3        0.029312    0.181179  \n",
       "s4        0.034309    0.185234  \n",
       "s5        0.032433    0.133599  \n",
       "s6        0.027917    0.135612  \n",
       "target  211.500000  346.000000  "
      ]
     },
     "execution_count": 40,
     "metadata": {},
     "output_type": "execute_result"
    }
   ],
   "source": [
    "df.describe().T"
   ]
  },
  {
   "cell_type": "markdown",
   "metadata": {},
   "source": [
    "#### Train Test Split"
   ]
  },
  {
   "cell_type": "code",
   "execution_count": 41,
   "metadata": {},
   "outputs": [],
   "source": [
    "# define X y\n",
    "X = df.drop(columns='target')\n",
    "y = df['target']"
   ]
  },
  {
   "cell_type": "code",
   "execution_count": 42,
   "metadata": {},
   "outputs": [
    {
     "data": {
      "text/html": [
       "<div>\n",
       "<style scoped>\n",
       "    .dataframe tbody tr th:only-of-type {\n",
       "        vertical-align: middle;\n",
       "    }\n",
       "\n",
       "    .dataframe tbody tr th {\n",
       "        vertical-align: top;\n",
       "    }\n",
       "\n",
       "    .dataframe thead th {\n",
       "        text-align: right;\n",
       "    }\n",
       "</style>\n",
       "<table border=\"1\" class=\"dataframe\">\n",
       "  <thead>\n",
       "    <tr style=\"text-align: right;\">\n",
       "      <th></th>\n",
       "      <th>age</th>\n",
       "      <th>sex</th>\n",
       "      <th>bmi</th>\n",
       "      <th>bp</th>\n",
       "      <th>s1</th>\n",
       "      <th>s2</th>\n",
       "      <th>s3</th>\n",
       "      <th>s4</th>\n",
       "      <th>s5</th>\n",
       "      <th>s6</th>\n",
       "    </tr>\n",
       "  </thead>\n",
       "  <tbody>\n",
       "    <tr>\n",
       "      <th>0</th>\n",
       "      <td>0.038076</td>\n",
       "      <td>0.050680</td>\n",
       "      <td>0.061696</td>\n",
       "      <td>0.021872</td>\n",
       "      <td>-0.044223</td>\n",
       "      <td>-0.034821</td>\n",
       "      <td>-0.043401</td>\n",
       "      <td>-0.002592</td>\n",
       "      <td>0.019908</td>\n",
       "      <td>-0.017646</td>\n",
       "    </tr>\n",
       "    <tr>\n",
       "      <th>1</th>\n",
       "      <td>-0.001882</td>\n",
       "      <td>-0.044642</td>\n",
       "      <td>-0.051474</td>\n",
       "      <td>-0.026328</td>\n",
       "      <td>-0.008449</td>\n",
       "      <td>-0.019163</td>\n",
       "      <td>0.074412</td>\n",
       "      <td>-0.039493</td>\n",
       "      <td>-0.068330</td>\n",
       "      <td>-0.092204</td>\n",
       "    </tr>\n",
       "    <tr>\n",
       "      <th>2</th>\n",
       "      <td>0.085299</td>\n",
       "      <td>0.050680</td>\n",
       "      <td>0.044451</td>\n",
       "      <td>-0.005671</td>\n",
       "      <td>-0.045599</td>\n",
       "      <td>-0.034194</td>\n",
       "      <td>-0.032356</td>\n",
       "      <td>-0.002592</td>\n",
       "      <td>0.002864</td>\n",
       "      <td>-0.025930</td>\n",
       "    </tr>\n",
       "    <tr>\n",
       "      <th>3</th>\n",
       "      <td>-0.089063</td>\n",
       "      <td>-0.044642</td>\n",
       "      <td>-0.011595</td>\n",
       "      <td>-0.036656</td>\n",
       "      <td>0.012191</td>\n",
       "      <td>0.024991</td>\n",
       "      <td>-0.036038</td>\n",
       "      <td>0.034309</td>\n",
       "      <td>0.022692</td>\n",
       "      <td>-0.009362</td>\n",
       "    </tr>\n",
       "    <tr>\n",
       "      <th>4</th>\n",
       "      <td>0.005383</td>\n",
       "      <td>-0.044642</td>\n",
       "      <td>-0.036385</td>\n",
       "      <td>0.021872</td>\n",
       "      <td>0.003935</td>\n",
       "      <td>0.015596</td>\n",
       "      <td>0.008142</td>\n",
       "      <td>-0.002592</td>\n",
       "      <td>-0.031991</td>\n",
       "      <td>-0.046641</td>\n",
       "    </tr>\n",
       "  </tbody>\n",
       "</table>\n",
       "</div>"
      ],
      "text/plain": [
       "        age       sex       bmi        bp        s1        s2        s3  \\\n",
       "0  0.038076  0.050680  0.061696  0.021872 -0.044223 -0.034821 -0.043401   \n",
       "1 -0.001882 -0.044642 -0.051474 -0.026328 -0.008449 -0.019163  0.074412   \n",
       "2  0.085299  0.050680  0.044451 -0.005671 -0.045599 -0.034194 -0.032356   \n",
       "3 -0.089063 -0.044642 -0.011595 -0.036656  0.012191  0.024991 -0.036038   \n",
       "4  0.005383 -0.044642 -0.036385  0.021872  0.003935  0.015596  0.008142   \n",
       "\n",
       "         s4        s5        s6  \n",
       "0 -0.002592  0.019908 -0.017646  \n",
       "1 -0.039493 -0.068330 -0.092204  \n",
       "2 -0.002592  0.002864 -0.025930  \n",
       "3  0.034309  0.022692 -0.009362  \n",
       "4 -0.002592 -0.031991 -0.046641  "
      ]
     },
     "execution_count": 42,
     "metadata": {},
     "output_type": "execute_result"
    }
   ],
   "source": [
    "X.head()"
   ]
  },
  {
   "cell_type": "code",
   "execution_count": 43,
   "metadata": {},
   "outputs": [],
   "source": [
    "# train test split\n",
    "X_train, X_test, y_train, y_test = train_test_split(X, y, test_size=0.2, random_state=1)"
   ]
  },
  {
   "cell_type": "code",
   "execution_count": 44,
   "metadata": {},
   "outputs": [
    {
     "data": {
      "text/plain": [
       "((353, 10), (89, 10))"
      ]
     },
     "execution_count": 44,
     "metadata": {},
     "output_type": "execute_result"
    }
   ],
   "source": [
    "# Hasil splitting\n",
    "X_train.shape, X_test.shape"
   ]
  },
  {
   "cell_type": "code",
   "execution_count": 45,
   "metadata": {},
   "outputs": [],
   "source": [
    "# X_train = X_train.iloc[: , 1:2]\n",
    "# X_test = X_test.iloc[: , 1:2]\n",
    "\n",
    "# X_train\n"
   ]
  },
  {
   "cell_type": "markdown",
   "metadata": {},
   "source": [
    "#### Model with all features"
   ]
  },
  {
   "cell_type": "code",
   "execution_count": 46,
   "metadata": {},
   "outputs": [
    {
     "name": "stdout",
     "output_type": "stream",
     "text": [
      "81.87363516316752\n"
     ]
    }
   ],
   "source": [
    "# Training model dengan semua feature\n",
    "model = DecisionTreeRegressor(random_state=1)\n",
    "model.fit(X_train, y_train)\n",
    "\n",
    "# Performa model pada saat prediksi test set\n",
    "y_pred = model.predict(X_test)\n",
    "print(mean_squared_error(y_test, y_pred)**0.5)"
   ]
  },
  {
   "cell_type": "code",
   "execution_count": null,
   "metadata": {},
   "outputs": [],
   "source": []
  },
  {
   "cell_type": "markdown",
   "metadata": {},
   "source": [
    "## **Forward Feature Selection**\n",
    "\n",
    "Cara kerja Forward Feature Selection adalah dengan menambahkan feature satu per satu. Misalnya, kita punya 5 feature bernama X1, X2, X3, X4, X5. Tahapannya seperti berikut ini:\n",
    "\n",
    "1. Memilih feature terbaik untuk model dengan 1 feature\n",
    "    - Model menggunakan suatu algoritma tertentu, kemudian melakukan fitting pada train set dengan 1 feature, kemudian melakukan prediksi pada test set dengan 1 feature juga. \n",
    "    - Misalnya, feature tersebut adalah X1. Maka kita akan mendapatkan score performa dari model yang hanya menggunakan 1 feature tersebut, yaitu X1.\n",
    "    - Kita lakukan lagi tahapan fiiting dan prediksi tersebut untuk X2, X3, X4, dan X5.\n",
    "    - Feature yang menghasilkan performa terbaik akan dipilih menjadi feature terbaik pada model dengan 1 feature.\n",
    "    - Misalnya, feature terbaik adalah X2. Maka X2 akan digunakan untuk modeling dengan 2 feature.\n",
    "<br><br>\n",
    "\n",
    "2. Memilih feature terbaik untuk model dengan 2 feature.\n",
    "    - Kita akan menggunakan X2 yang terpilih sebagai feature terbaik pada modeling dengan 1 feature.\n",
    "    - Kita lakukan fitting dan prediksi dengan menggunakan 2 feature, yang salah satunya adalah X2. Jadi kombinasinya adalah [X2,X1], [X2,X3], [X2,X5], [X2,X6]\n",
    "    - 2 feature yang menghasilkan performa terbaik akan dipilih menjadi feature terbaik pada model dengan 2 feature\n",
    "    - Misalnya, feature terbaik adalah [X2,X4]. Maka [X2,X4] akan digunakan untuk modeling dengan 3 feature.\n",
    "<br><br>\n",
    "\n",
    "3. Begitu seterusnya sampai semua feature digunakan. Jadi karena datasetnya terdiri dari 5 feature, maka hasilnya terdapat 5 model dengan score terbaik yang mana masing-masing model punya jumlah feture berbeda. Misalnya: [X2], [X2,X4], [X2,X4,X1], [X2,X4,X1,X5], [X2,X4,X1,X5,X3].\n",
    "<br><br>\n",
    "\n",
    "4. Dari 5 model tersebut, kita bisa memilih lagi 1 model dengan performa terbaik, misalnya [X2,X4,X1]. Maka model dengan menggunakan 3 feature [X2,X4,X1] inilah yang akan kita gunakan.  \n"
   ]
  },
  {
   "cell_type": "markdown",
   "metadata": {},
   "source": [
    "![\"Cara kerja Forward Feature Selection\"](forward_feature_selection.JPG)"
   ]
  },
  {
   "cell_type": "markdown",
   "metadata": {},
   "source": [
    "### Forward Feature Selection mlxtend"
   ]
  },
  {
   "cell_type": "code",
   "execution_count": 47,
   "metadata": {},
   "outputs": [
    {
     "data": {
      "text/plain": [
       "SequentialFeatureSelector(estimator=DecisionTreeRegressor(random_state=1),\n",
       "                          k_features=10, scoring='neg_root_mean_squared_error')"
      ]
     },
     "execution_count": 47,
     "metadata": {},
     "output_type": "execute_result"
    }
   ],
   "source": [
    "model = DecisionTreeRegressor(random_state=1)\n",
    "\n",
    "sfs_mlxtend_forward = SFS(\n",
    "    estimator=model,\n",
    "    k_features=10,  \n",
    "    forward=True,  \n",
    "    verbose=0,  \n",
    "    cv=5,\n",
    "    scoring='neg_root_mean_squared_error'\n",
    ")\n",
    "\n",
    "sfs_mlxtend_forward.fit(X_train, y_train)"
   ]
  },
  {
   "cell_type": "code",
   "execution_count": 48,
   "metadata": {},
   "outputs": [],
   "source": [
    "# help(SFS)"
   ]
  },
  {
   "cell_type": "code",
   "execution_count": 49,
   "metadata": {},
   "outputs": [
    {
     "data": {
      "text/plain": [
       "('age', 'sex', 'bmi', 'bp', 's1', 's2', 's3', 's4', 's5', 's6')"
      ]
     },
     "execution_count": 49,
     "metadata": {},
     "output_type": "execute_result"
    }
   ],
   "source": [
    "# feature terpilih\n",
    "sfs_mlxtend_forward.k_feature_names_"
   ]
  },
  {
   "cell_type": "code",
   "execution_count": 50,
   "metadata": {},
   "outputs": [
    {
     "data": {
      "text/plain": [
       "(0, 1, 2, 3, 4, 5, 6, 7, 8, 9)"
      ]
     },
     "execution_count": 50,
     "metadata": {},
     "output_type": "execute_result"
    }
   ],
   "source": [
    "# index dari feature terpilih\n",
    "sfs_mlxtend_forward.k_feature_idx_"
   ]
  },
  {
   "cell_type": "code",
   "execution_count": 51,
   "metadata": {},
   "outputs": [
    {
     "data": {
      "text/plain": [
       "-82.78137582920223"
      ]
     },
     "execution_count": 51,
     "metadata": {},
     "output_type": "execute_result"
    }
   ],
   "source": [
    "# score\n",
    "sfs_mlxtend_forward.k_score_"
   ]
  },
  {
   "cell_type": "code",
   "execution_count": 52,
   "metadata": {},
   "outputs": [
    {
     "data": {
      "text/html": [
       "<div>\n",
       "<style scoped>\n",
       "    .dataframe tbody tr th:only-of-type {\n",
       "        vertical-align: middle;\n",
       "    }\n",
       "\n",
       "    .dataframe tbody tr th {\n",
       "        vertical-align: top;\n",
       "    }\n",
       "\n",
       "    .dataframe thead th {\n",
       "        text-align: right;\n",
       "    }\n",
       "</style>\n",
       "<table border=\"1\" class=\"dataframe\">\n",
       "  <thead>\n",
       "    <tr style=\"text-align: right;\">\n",
       "      <th></th>\n",
       "      <th>feature_idx</th>\n",
       "      <th>cv_scores</th>\n",
       "      <th>avg_score</th>\n",
       "      <th>feature_names</th>\n",
       "      <th>ci_bound</th>\n",
       "      <th>std_dev</th>\n",
       "      <th>std_err</th>\n",
       "    </tr>\n",
       "  </thead>\n",
       "  <tbody>\n",
       "    <tr>\n",
       "      <th>1</th>\n",
       "      <td>(7,)</td>\n",
       "      <td>[-68.67453269337473, -78.37494816256249, -82.0...</td>\n",
       "      <td>-75.680062</td>\n",
       "      <td>(s4,)</td>\n",
       "      <td>5.84961</td>\n",
       "      <td>4.551195</td>\n",
       "      <td>2.275598</td>\n",
       "    </tr>\n",
       "    <tr>\n",
       "      <th>2</th>\n",
       "      <td>(1, 7)</td>\n",
       "      <td>[-68.01479659183056, -72.3677060137058, -79.94...</td>\n",
       "      <td>-73.14361</td>\n",
       "      <td>(sex, s4)</td>\n",
       "      <td>5.37304</td>\n",
       "      <td>4.180408</td>\n",
       "      <td>2.090204</td>\n",
       "    </tr>\n",
       "    <tr>\n",
       "      <th>3</th>\n",
       "      <td>(1, 3, 7)</td>\n",
       "      <td>[-80.19119428494048, -75.06598497947634, -91.7...</td>\n",
       "      <td>-80.940494</td>\n",
       "      <td>(sex, bp, s4)</td>\n",
       "      <td>7.365814</td>\n",
       "      <td>5.730854</td>\n",
       "      <td>2.865427</td>\n",
       "    </tr>\n",
       "    <tr>\n",
       "      <th>4</th>\n",
       "      <td>(1, 2, 3, 7)</td>\n",
       "      <td>[-80.45854500790287, -75.54590060745552, -84.3...</td>\n",
       "      <td>-79.160286</td>\n",
       "      <td>(sex, bmi, bp, s4)</td>\n",
       "      <td>5.021072</td>\n",
       "      <td>3.906564</td>\n",
       "      <td>1.953282</td>\n",
       "    </tr>\n",
       "    <tr>\n",
       "      <th>5</th>\n",
       "      <td>(1, 2, 3, 5, 7)</td>\n",
       "      <td>[-78.10123441342914, -83.90882039955675, -76.5...</td>\n",
       "      <td>-75.086129</td>\n",
       "      <td>(sex, bmi, bp, s2, s4)</td>\n",
       "      <td>7.658231</td>\n",
       "      <td>5.958364</td>\n",
       "      <td>2.979182</td>\n",
       "    </tr>\n",
       "    <tr>\n",
       "      <th>6</th>\n",
       "      <td>(0, 1, 2, 3, 5, 7)</td>\n",
       "      <td>[-84.15261120031265, -80.42685417967954, -74.7...</td>\n",
       "      <td>-75.344529</td>\n",
       "      <td>(age, sex, bmi, bp, s2, s4)</td>\n",
       "      <td>8.129858</td>\n",
       "      <td>6.325305</td>\n",
       "      <td>3.162653</td>\n",
       "    </tr>\n",
       "    <tr>\n",
       "      <th>7</th>\n",
       "      <td>(0, 1, 2, 3, 5, 7, 9)</td>\n",
       "      <td>[-80.7801746700161, -72.82044288116113, -70.79...</td>\n",
       "      <td>-73.84438</td>\n",
       "      <td>(age, sex, bmi, bp, s2, s4, s6)</td>\n",
       "      <td>8.096054</td>\n",
       "      <td>6.299005</td>\n",
       "      <td>3.149503</td>\n",
       "    </tr>\n",
       "    <tr>\n",
       "      <th>8</th>\n",
       "      <td>(0, 1, 2, 3, 4, 5, 7, 9)</td>\n",
       "      <td>[-84.18156099329357, -72.41877431467228, -68.2...</td>\n",
       "      <td>-74.6442</td>\n",
       "      <td>(age, sex, bmi, bp, s1, s2, s4, s6)</td>\n",
       "      <td>7.730407</td>\n",
       "      <td>6.014519</td>\n",
       "      <td>3.007259</td>\n",
       "    </tr>\n",
       "    <tr>\n",
       "      <th>9</th>\n",
       "      <td>(0, 1, 2, 3, 4, 5, 6, 7, 9)</td>\n",
       "      <td>[-88.60594835848799, -71.07653086242054, -65.7...</td>\n",
       "      <td>-75.080321</td>\n",
       "      <td>(age, sex, bmi, bp, s1, s2, s3, s4, s6)</td>\n",
       "      <td>10.01696</td>\n",
       "      <td>7.793535</td>\n",
       "      <td>3.896767</td>\n",
       "    </tr>\n",
       "    <tr>\n",
       "      <th>10</th>\n",
       "      <td>(0, 1, 2, 3, 4, 5, 6, 7, 8, 9)</td>\n",
       "      <td>[-96.0027141635098, -88.7434980756575, -79.973...</td>\n",
       "      <td>-82.781376</td>\n",
       "      <td>(age, sex, bmi, bp, s1, s2, s3, s4, s5, s6)</td>\n",
       "      <td>11.103283</td>\n",
       "      <td>8.638731</td>\n",
       "      <td>4.319366</td>\n",
       "    </tr>\n",
       "  </tbody>\n",
       "</table>\n",
       "</div>"
      ],
      "text/plain": [
       "                       feature_idx  \\\n",
       "1                             (7,)   \n",
       "2                           (1, 7)   \n",
       "3                        (1, 3, 7)   \n",
       "4                     (1, 2, 3, 7)   \n",
       "5                  (1, 2, 3, 5, 7)   \n",
       "6               (0, 1, 2, 3, 5, 7)   \n",
       "7            (0, 1, 2, 3, 5, 7, 9)   \n",
       "8         (0, 1, 2, 3, 4, 5, 7, 9)   \n",
       "9      (0, 1, 2, 3, 4, 5, 6, 7, 9)   \n",
       "10  (0, 1, 2, 3, 4, 5, 6, 7, 8, 9)   \n",
       "\n",
       "                                            cv_scores  avg_score  \\\n",
       "1   [-68.67453269337473, -78.37494816256249, -82.0... -75.680062   \n",
       "2   [-68.01479659183056, -72.3677060137058, -79.94...  -73.14361   \n",
       "3   [-80.19119428494048, -75.06598497947634, -91.7... -80.940494   \n",
       "4   [-80.45854500790287, -75.54590060745552, -84.3... -79.160286   \n",
       "5   [-78.10123441342914, -83.90882039955675, -76.5... -75.086129   \n",
       "6   [-84.15261120031265, -80.42685417967954, -74.7... -75.344529   \n",
       "7   [-80.7801746700161, -72.82044288116113, -70.79...  -73.84438   \n",
       "8   [-84.18156099329357, -72.41877431467228, -68.2...   -74.6442   \n",
       "9   [-88.60594835848799, -71.07653086242054, -65.7... -75.080321   \n",
       "10  [-96.0027141635098, -88.7434980756575, -79.973... -82.781376   \n",
       "\n",
       "                                  feature_names   ci_bound   std_dev   std_err  \n",
       "1                                         (s4,)    5.84961  4.551195  2.275598  \n",
       "2                                     (sex, s4)    5.37304  4.180408  2.090204  \n",
       "3                                 (sex, bp, s4)   7.365814  5.730854  2.865427  \n",
       "4                            (sex, bmi, bp, s4)   5.021072  3.906564  1.953282  \n",
       "5                        (sex, bmi, bp, s2, s4)   7.658231  5.958364  2.979182  \n",
       "6                   (age, sex, bmi, bp, s2, s4)   8.129858  6.325305  3.162653  \n",
       "7               (age, sex, bmi, bp, s2, s4, s6)   8.096054  6.299005  3.149503  \n",
       "8           (age, sex, bmi, bp, s1, s2, s4, s6)   7.730407  6.014519  3.007259  \n",
       "9       (age, sex, bmi, bp, s1, s2, s3, s4, s6)   10.01696  7.793535  3.896767  \n",
       "10  (age, sex, bmi, bp, s1, s2, s3, s4, s5, s6)  11.103283  8.638731  4.319366  "
      ]
     },
     "execution_count": 52,
     "metadata": {},
     "output_type": "execute_result"
    }
   ],
   "source": [
    "# score tiap penambahan feature\n",
    "pd.DataFrame.from_dict(sfs_mlxtend_forward.get_metric_dict()).T"
   ]
  },
  {
   "cell_type": "markdown",
   "metadata": {},
   "source": [
    "Dari hasil 10 model dengan jumlah feature yang berbeda di atas, kita dapat melihat bahwa:\n",
    "\n",
    "- Semakin banyak feature yang digunakan tidak serta merta meningkatkan performa model\n",
    "- Bisa kita lihat dari hasil di atas, score RMSE terbaik (paling mendekati 0) adalah ketika menggunakan 2 feature saja, yaitu: 'sex' dan 's4'\n"
   ]
  },
  {
   "cell_type": "code",
   "execution_count": 53,
   "metadata": {},
   "outputs": [],
   "source": [
    "# plot_sfs?"
   ]
  },
  {
   "cell_type": "code",
   "execution_count": 54,
   "metadata": {},
   "outputs": [
    {
     "data": {
      "image/png": "[encoded data removed]",
      "text/plain": [
       "<Figure size 432x288 with 1 Axes>"
      ]
     },
     "metadata": {
      "needs_background": "light"
     },
     "output_type": "display_data"
    }
   ],
   "source": [
    "# Performa model dengan menggunakan feature berjumlah 1-10 \n",
    "plot_sfs(sfs_mlxtend_forward.get_metric_dict(), kind='std_err')\n",
    "plt.grid();\n",
    "\n",
    "# Performa terbaik pada jumlah feature = 2"
   ]
  },
  {
   "cell_type": "markdown",
   "metadata": {},
   "source": [
    "## **Backward Feature Selection**\n",
    "\n",
    "Cara kerja Backward Feature Selection adalah dengan mengurangi feature satu per satu. Ini kebalikan dari metode Forward Feture Selection. Misalnya, kita punya 5 feature bernama X1, X2, X3, X4, X5. Tahapannya seperti berikut ini:\n",
    "\n",
    "1. Menggunakan model dengan 5 feature.\n",
    "    - Model menggunakan suatu algoritma tertentu, kemudian melakukan fitting pada data train dengan 5 feature, kemudian melakukan prediksi pada test set dengan 5 feature (semua feature). \n",
    "    - Maka kita akan mendapatkan score performa dari model yang hanya menggunakan 5 feature tersebut, yaitu [X1,X2,X3,X4,X5].\n",
    "<br><br>\n",
    "\n",
    "2. Memilih 4 feature\n",
    "    - Model akan melakukan fitting dan prediksi dengan 4 feature, misalnya: [X2,X3,X4,X5], [X1,X3,X4,X5], [X1,X2,X4,X5], dan [X1,X2,X3,X5]. Dengan kata lain akan kita melakukan mencoba membuang 1 feature pada 4 skenario tersebut.\n",
    "    - Kemudian akan dipilih 4 feature dengan score performa terbaik, misalnya [X1,X2,X4,X5]. Dengan kata lain, feature X3 adalah feature yang paling tidak penting diantara semua feature.\n",
    "<br><br>\n",
    "\n",
    "3. Melakukan proses yang sama\n",
    "    - Memilih 3 feature terbaik.\n",
    "    - Memilih 2 feature terbaik\n",
    "    - Terisisa 1 feature.\n",
    "<br><br>\n",
    "\n",
    "4. Kita sudah punya 5 skenario model, yaitu dengan: 5,4,3,2, dan 1 fature.\n",
    "<br><br>\n",
    "\n",
    "5. Kita bisa memilih score performa terbaik di antara 5 skenario tersebut.\n",
    " "
   ]
  },
  {
   "cell_type": "markdown",
   "metadata": {},
   "source": [
    "![\"Backward Feature Selection\"](backward_feature_selection.JPG)"
   ]
  },
  {
   "cell_type": "markdown",
   "metadata": {},
   "source": [
    "### Backward Feature Selection with mlxtend"
   ]
  },
  {
   "cell_type": "code",
   "execution_count": 55,
   "metadata": {},
   "outputs": [
    {
     "data": {
      "text/plain": [
       "SequentialFeatureSelector(estimator=DecisionTreeRegressor(random_state=1),\n",
       "                          forward=False, scoring='neg_root_mean_squared_error')"
      ]
     },
     "execution_count": 55,
     "metadata": {},
     "output_type": "execute_result"
    }
   ],
   "source": [
    "model = DecisionTreeRegressor(random_state=1)\n",
    "\n",
    "sfs_mlxtend_back = SFS(\n",
    "    estimator=model,  \n",
    "    k_features=1,  \n",
    "    forward=False,  \n",
    "    verbose=0,  \n",
    "    scoring='neg_root_mean_squared_error',\n",
    "    cv=5\n",
    ")\n",
    "\n",
    "sfs_mlxtend_back.fit(X_train, y_train)"
   ]
  },
  {
   "cell_type": "code",
   "execution_count": 56,
   "metadata": {},
   "outputs": [
    {
     "data": {
      "text/html": [
       "<div>\n",
       "<style scoped>\n",
       "    .dataframe tbody tr th:only-of-type {\n",
       "        vertical-align: middle;\n",
       "    }\n",
       "\n",
       "    .dataframe tbody tr th {\n",
       "        vertical-align: top;\n",
       "    }\n",
       "\n",
       "    .dataframe thead th {\n",
       "        text-align: right;\n",
       "    }\n",
       "</style>\n",
       "<table border=\"1\" class=\"dataframe\">\n",
       "  <thead>\n",
       "    <tr style=\"text-align: right;\">\n",
       "      <th></th>\n",
       "      <th>feature_idx</th>\n",
       "      <th>cv_scores</th>\n",
       "      <th>avg_score</th>\n",
       "      <th>feature_names</th>\n",
       "      <th>ci_bound</th>\n",
       "      <th>std_dev</th>\n",
       "      <th>std_err</th>\n",
       "    </tr>\n",
       "  </thead>\n",
       "  <tbody>\n",
       "    <tr>\n",
       "      <th>10</th>\n",
       "      <td>(0, 1, 2, 3, 4, 5, 6, 7, 8, 9)</td>\n",
       "      <td>[-96.0027141635098, -88.7434980756575, -79.973...</td>\n",
       "      <td>-82.781376</td>\n",
       "      <td>(age, sex, bmi, bp, s1, s2, s3, s4, s5, s6)</td>\n",
       "      <td>11.103283</td>\n",
       "      <td>8.638731</td>\n",
       "      <td>4.319366</td>\n",
       "    </tr>\n",
       "    <tr>\n",
       "      <th>9</th>\n",
       "      <td>(0, 1, 2, 3, 4, 5, 6, 7, 9)</td>\n",
       "      <td>[-88.60594835848799, -71.07653086242054, -65.7...</td>\n",
       "      <td>-75.080321</td>\n",
       "      <td>(age, sex, bmi, bp, s1, s2, s3, s4, s6)</td>\n",
       "      <td>10.01696</td>\n",
       "      <td>7.793535</td>\n",
       "      <td>3.896767</td>\n",
       "    </tr>\n",
       "    <tr>\n",
       "      <th>8</th>\n",
       "      <td>(0, 1, 2, 3, 4, 5, 7, 9)</td>\n",
       "      <td>[-84.18156099329357, -72.41877431467228, -68.2...</td>\n",
       "      <td>-74.6442</td>\n",
       "      <td>(age, sex, bmi, bp, s1, s2, s4, s6)</td>\n",
       "      <td>7.730407</td>\n",
       "      <td>6.014519</td>\n",
       "      <td>3.007259</td>\n",
       "    </tr>\n",
       "    <tr>\n",
       "      <th>7</th>\n",
       "      <td>(0, 1, 2, 3, 5, 7, 9)</td>\n",
       "      <td>[-80.7801746700161, -72.82044288116113, -70.79...</td>\n",
       "      <td>-73.84438</td>\n",
       "      <td>(age, sex, bmi, bp, s2, s4, s6)</td>\n",
       "      <td>8.096054</td>\n",
       "      <td>6.299005</td>\n",
       "      <td>3.149503</td>\n",
       "    </tr>\n",
       "    <tr>\n",
       "      <th>6</th>\n",
       "      <td>(0, 2, 3, 5, 7, 9)</td>\n",
       "      <td>[-83.02943649058243, -66.99484949721828, -73.8...</td>\n",
       "      <td>-75.274787</td>\n",
       "      <td>(age, bmi, bp, s2, s4, s6)</td>\n",
       "      <td>8.169221</td>\n",
       "      <td>6.355931</td>\n",
       "      <td>3.177966</td>\n",
       "    </tr>\n",
       "    <tr>\n",
       "      <th>5</th>\n",
       "      <td>(2, 3, 5, 7, 9)</td>\n",
       "      <td>[-82.05966568536802, -80.71616065912264, -77.1...</td>\n",
       "      <td>-78.527627</td>\n",
       "      <td>(bmi, bp, s2, s4, s6)</td>\n",
       "      <td>6.281228</td>\n",
       "      <td>4.887008</td>\n",
       "      <td>2.443504</td>\n",
       "    </tr>\n",
       "    <tr>\n",
       "      <th>4</th>\n",
       "      <td>(2, 3, 7, 9)</td>\n",
       "      <td>[-80.58291154955135, -75.42069802210031, -82.0...</td>\n",
       "      <td>-76.879824</td>\n",
       "      <td>(bmi, bp, s4, s6)</td>\n",
       "      <td>5.194989</td>\n",
       "      <td>4.041878</td>\n",
       "      <td>2.020939</td>\n",
       "    </tr>\n",
       "    <tr>\n",
       "      <th>3</th>\n",
       "      <td>(2, 7, 9)</td>\n",
       "      <td>[-79.75581130312523, -76.4579420427234, -71.17...</td>\n",
       "      <td>-79.110837</td>\n",
       "      <td>(bmi, s4, s6)</td>\n",
       "      <td>6.319287</td>\n",
       "      <td>4.91662</td>\n",
       "      <td>2.45831</td>\n",
       "    </tr>\n",
       "    <tr>\n",
       "      <th>2</th>\n",
       "      <td>(7, 9)</td>\n",
       "      <td>[-75.91457594148561, -85.44681307017696, -80.6...</td>\n",
       "      <td>-81.241082</td>\n",
       "      <td>(s4, s6)</td>\n",
       "      <td>4.709138</td>\n",
       "      <td>3.66387</td>\n",
       "      <td>1.831935</td>\n",
       "    </tr>\n",
       "    <tr>\n",
       "      <th>1</th>\n",
       "      <td>(7,)</td>\n",
       "      <td>[-68.67453269337473, -78.37494816256249, -82.0...</td>\n",
       "      <td>-75.680062</td>\n",
       "      <td>(s4,)</td>\n",
       "      <td>5.84961</td>\n",
       "      <td>4.551195</td>\n",
       "      <td>2.275598</td>\n",
       "    </tr>\n",
       "  </tbody>\n",
       "</table>\n",
       "</div>"
      ],
      "text/plain": [
       "                       feature_idx  \\\n",
       "10  (0, 1, 2, 3, 4, 5, 6, 7, 8, 9)   \n",
       "9      (0, 1, 2, 3, 4, 5, 6, 7, 9)   \n",
       "8         (0, 1, 2, 3, 4, 5, 7, 9)   \n",
       "7            (0, 1, 2, 3, 5, 7, 9)   \n",
       "6               (0, 2, 3, 5, 7, 9)   \n",
       "5                  (2, 3, 5, 7, 9)   \n",
       "4                     (2, 3, 7, 9)   \n",
       "3                        (2, 7, 9)   \n",
       "2                           (7, 9)   \n",
       "1                             (7,)   \n",
       "\n",
       "                                            cv_scores  avg_score  \\\n",
       "10  [-96.0027141635098, -88.7434980756575, -79.973... -82.781376   \n",
       "9   [-88.60594835848799, -71.07653086242054, -65.7... -75.080321   \n",
       "8   [-84.18156099329357, -72.41877431467228, -68.2...   -74.6442   \n",
       "7   [-80.7801746700161, -72.82044288116113, -70.79...  -73.84438   \n",
       "6   [-83.02943649058243, -66.99484949721828, -73.8... -75.274787   \n",
       "5   [-82.05966568536802, -80.71616065912264, -77.1... -78.527627   \n",
       "4   [-80.58291154955135, -75.42069802210031, -82.0... -76.879824   \n",
       "3   [-79.75581130312523, -76.4579420427234, -71.17... -79.110837   \n",
       "2   [-75.91457594148561, -85.44681307017696, -80.6... -81.241082   \n",
       "1   [-68.67453269337473, -78.37494816256249, -82.0... -75.680062   \n",
       "\n",
       "                                  feature_names   ci_bound   std_dev   std_err  \n",
       "10  (age, sex, bmi, bp, s1, s2, s3, s4, s5, s6)  11.103283  8.638731  4.319366  \n",
       "9       (age, sex, bmi, bp, s1, s2, s3, s4, s6)   10.01696  7.793535  3.896767  \n",
       "8           (age, sex, bmi, bp, s1, s2, s4, s6)   7.730407  6.014519  3.007259  \n",
       "7               (age, sex, bmi, bp, s2, s4, s6)   8.096054  6.299005  3.149503  \n",
       "6                    (age, bmi, bp, s2, s4, s6)   8.169221  6.355931  3.177966  \n",
       "5                         (bmi, bp, s2, s4, s6)   6.281228  4.887008  2.443504  \n",
       "4                             (bmi, bp, s4, s6)   5.194989  4.041878  2.020939  \n",
       "3                                 (bmi, s4, s6)   6.319287   4.91662   2.45831  \n",
       "2                                      (s4, s6)   4.709138   3.66387  1.831935  \n",
       "1                                         (s4,)    5.84961  4.551195  2.275598  "
      ]
     },
     "execution_count": 56,
     "metadata": {},
     "output_type": "execute_result"
    }
   ],
   "source": [
    "# score tiap pengurangan jumlah feature\n",
    "pd.DataFrame.from_dict(sfs_mlxtend_back.get_metric_dict()).T"
   ]
  },
  {
   "cell_type": "markdown",
   "metadata": {},
   "source": [
    "- Score RMSE terbaik (paling mendekati 0) adalah pada saat model menggunakan 7 features.\n",
    "- Karena metode bacward ini iterasinya mundur, dari banyak feature kemudian dikurangi satu per satu, maka hasilnya pun berbeda dengan metode forward yang iterasinya maju, dari 1 feature kemudian ditambah satu per satu."
   ]
  },
  {
   "cell_type": "code",
   "execution_count": 57,
   "metadata": {},
   "outputs": [
    {
     "data": {
      "image/png": "[encoded data removed]",
      "text/plain": [
       "<Figure size 432x288 with 1 Axes>"
      ]
     },
     "metadata": {
      "needs_background": "light"
     },
     "output_type": "display_data"
    }
   ],
   "source": [
    "# Performa model menggunakan 1-10 features\n",
    "plot_sfs(sfs_mlxtend_back.get_metric_dict(), kind='std_err')\n",
    "plt.grid();\n",
    "\n",
    "# Performa terbaik pada jumlah feature = 7"
   ]
  },
  {
   "cell_type": "code",
   "execution_count": null,
   "metadata": {},
   "outputs": [],
   "source": []
  },
  {
   "cell_type": "markdown",
   "metadata": {},
   "source": [
    "## **Exhautive Feature Selection**\n",
    "\n",
    "- Exhaustive feature selection mencoba seluruh kombinasi feature.\n",
    "- Pada forward feature selection setelah kita mendapat feature terbaik pada 1 feature, misalnya X2, maka modeling dengn 2 feature salah satu featurenya akan menggunakan X2 dan feature lainnya, adalah X1, X3, X4, X5. Kombinasi X1 dan X3 tidak akan dicoba pada modeling dengan 2 feature.\n",
    "- Pada exhaustive feature selection, X1 dan X3 juga dicoba akan pada modeling dengan 2 feature. Begitu juga dengan kombinasi 2 feature yang lainnya.\n",
    "- Kita bisa membatasi minimum dan maximum feature yang ingin digunakan"
   ]
  },
  {
   "cell_type": "markdown",
   "metadata": {},
   "source": [
    "### Exhautive Feature Selection with mlxtend"
   ]
  },
  {
   "cell_type": "code",
   "execution_count": 58,
   "metadata": {},
   "outputs": [
    {
     "name": "stderr",
     "output_type": "stream",
     "text": [
      "Features: 957/957"
     ]
    },
    {
     "data": {
      "text/plain": [
       "ExhaustiveFeatureSelector(cv=3, estimator=DecisionTreeRegressor(random_state=1),\n",
       "                          max_features=7, min_features=2, n_jobs=-1,\n",
       "                          scoring='neg_root_mean_squared_error')"
      ]
     },
     "execution_count": 58,
     "metadata": {},
     "output_type": "execute_result"
    }
   ],
   "source": [
    "model = DecisionTreeRegressor(random_state=1)\n",
    "\n",
    "efs_mlxtend = EFS(\n",
    "    estimator=model,\n",
    "    min_features=2,  \n",
    "    max_features=7,  \n",
    "    cv=3,\n",
    "    n_jobs=-1,\n",
    "    scoring='neg_root_mean_squared_error'\n",
    ")\n",
    "\n",
    "efs_mlxtend.fit(X_train, y_train)"
   ]
  },
  {
   "cell_type": "code",
   "execution_count": 59,
   "metadata": {},
   "outputs": [
    {
     "data": {
      "text/plain": [
       "-71.19133854753795"
      ]
     },
     "execution_count": 59,
     "metadata": {},
     "output_type": "execute_result"
    }
   ],
   "source": [
    "efs_mlxtend.best_score_"
   ]
  },
  {
   "cell_type": "code",
   "execution_count": 60,
   "metadata": {},
   "outputs": [
    {
     "data": {
      "text/plain": [
       "('age', 'sex', 'bmi', 'bp', 's3', 's5')"
      ]
     },
     "execution_count": 60,
     "metadata": {},
     "output_type": "execute_result"
    }
   ],
   "source": [
    "efs_mlxtend.best_feature_names_"
   ]
  },
  {
   "cell_type": "code",
   "execution_count": 61,
   "metadata": {},
   "outputs": [
    {
     "data": {
      "image/png": "[encoded data removed]",
      "text/plain": [
       "<Figure size 432x288 with 1 Axes>"
      ]
     },
     "metadata": {
      "needs_background": "light"
     },
     "output_type": "display_data"
    }
   ],
   "source": [
    "plot_sfs(efs_mlxtend.get_metric_dict())\n",
    "plt.grid();"
   ]
  },
  {
   "cell_type": "code",
   "execution_count": null,
   "metadata": {},
   "outputs": [],
   "source": []
  },
  {
   "cell_type": "markdown",
   "metadata": {},
   "source": [
    "### *Referensi*\n",
    "\n",
    "- https://www.slideshare.net/VishalPatel321/feature-reduction-techniques\n",
    "- https://www.researchgate.net/figure/Merits-and-demerits-of-filter-wrapper-and-embedded-feature-selection-methods_tbl1_313098800\n",
    "- https://www.youtube.com/watch?v=nPHU1CpX4jg&list=PLc2rvfiptPSQYzmDIFuq2PqN2n28ZjxDH"
   ]
  }
 ],
 "metadata": {
  "interpreter": {
   "hash": "37eb40c3388cfde35488e2d005b0d69ca91ddeff8a429754d4da636d3f888e5e"
  },
  "kernelspec": {
   "display_name": "Python 3.7.6 64-bit ('base': conda)",
   "language": "python",
   "name": "python3"
  },
  "language_info": {
   "codemirror_mode": {
    "name": "ipython",
    "version": 3
   },
   "file_extension": ".py",
   "mimetype": "text/x-python",
   "name": "python",
   "nbconvert_exporter": "python",
   "pygments_lexer": "ipython3",
   "version": "3.7.11"
  },
  "orig_nbformat": 4
 },
 "nbformat": 4,
 "nbformat_minor": 2
}
